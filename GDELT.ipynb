{
  "nbformat": 4,
  "nbformat_minor": 0,
  "metadata": {
    "colab": {
      "name": "GDELT.ipynb",
      "version": "0.3.2",
      "provenance": [],
      "collapsed_sections": [],
      "include_colab_link": true
    },
    "kernelspec": {
      "name": "python3",
      "display_name": "Python 3"
    }
  },
  "cells": [
    {
      "cell_type": "markdown",
      "metadata": {
        "id": "view-in-github",
        "colab_type": "text"
      },
      "source": [
        "<a href=\"https://colab.research.google.com/github/sasha-kap/Events-Analytics/blob/master/GDELT.ipynb\" target=\"_parent\"><img src=\"https://colab.research.google.com/assets/colab-badge.svg\" alt=\"Open In Colab\"/></a>"
      ]
    },
    {
      "cell_type": "markdown",
      "metadata": {
        "id": "9dqBfQPS5TIQ",
        "colab_type": "text"
      },
      "source": [
        "###Provide credentials to the runtime"
      ]
    },
    {
      "cell_type": "code",
      "metadata": {
        "id": "lFWJPxblL9qk",
        "colab_type": "code",
        "colab": {
          "base_uri": "https://localhost:8080/",
          "height": 34
        },
        "outputId": "6dd6abaf-0c4f-4638-b855-7901932899ce"
      },
      "source": [
        "from google.colab import auth\n",
        "auth.authenticate_user()\n",
        "print('Authenticated')"
      ],
      "execution_count": 1,
      "outputs": [
        {
          "output_type": "stream",
          "text": [
            "Authenticated\n"
          ],
          "name": "stdout"
        }
      ]
    },
    {
      "cell_type": "code",
      "metadata": {
        "id": "IfjmDTMP5ple",
        "colab_type": "code",
        "colab": {
          "base_uri": "https://localhost:8080/",
          "height": 51
        },
        "outputId": "d6019eaa-66a0-4289-8ec5-cbb5a54496e6"
      },
      "source": [
        "%load_ext google.cloud.bigquery"
      ],
      "execution_count": 2,
      "outputs": [
        {
          "output_type": "stream",
          "text": [
            "The google.cloud.bigquery extension is already loaded. To reload it, use:\n",
            "  %reload_ext google.cloud.bigquery\n"
          ],
          "name": "stdout"
        }
      ]
    },
    {
      "cell_type": "markdown",
      "metadata": {
        "id": "TlCh1wMV-8zr",
        "colab_type": "text"
      },
      "source": [
        "###Use BigQuery via magics\n",
        "The google.cloud.bigquery library includes a magic command which runs a query and either displays the result or saves it to a variable as a DataFrame."
      ]
    },
    {
      "cell_type": "code",
      "metadata": {
        "id": "NaPeKUOT90t5",
        "colab_type": "code",
        "colab": {}
      },
      "source": [
        "# Save output in a variable `df`\n",
        "\n",
        "%%bigquery --project bq-project-248900 df\n",
        "SELECT\n",
        "  REGEXP_REPLACE(theme, r',.*', \" \") AS theme,\n",
        "  COUNT(*) AS count\n",
        "FROM\n",
        "  `gdelt-bq.gdeltv2.gkg`,\n",
        "  UNNEST(SPLIT(V2Themes,';')) AS theme\n",
        "WHERE\n",
        "  DATE>20150302000000\n",
        "  AND DATE < 20150304000000\n",
        "  AND V2Persons like '%Netanyahu%'\n",
        "GROUP BY\n",
        "  theme\n",
        "ORDER BY 2 DESC\n",
        "LIMIT 300"
      ],
      "execution_count": 0,
      "outputs": []
    },
    {
      "cell_type": "code",
      "metadata": {
        "id": "k3oquDv2aus-",
        "colab_type": "code",
        "colab": {
          "base_uri": "https://localhost:8080/",
          "height": 204
        },
        "outputId": "ff806585-2ff6-446f-d7d5-52b257d244bd"
      },
      "source": [
        "df.head()"
      ],
      "execution_count": 12,
      "outputs": [
        {
          "output_type": "execute_result",
          "data": {
            "text/html": [
              "<div>\n",
              "<style scoped>\n",
              "    .dataframe tbody tr th:only-of-type {\n",
              "        vertical-align: middle;\n",
              "    }\n",
              "\n",
              "    .dataframe tbody tr th {\n",
              "        vertical-align: top;\n",
              "    }\n",
              "\n",
              "    .dataframe thead th {\n",
              "        text-align: right;\n",
              "    }\n",
              "</style>\n",
              "<table border=\"1\" class=\"dataframe\">\n",
              "  <thead>\n",
              "    <tr style=\"text-align: right;\">\n",
              "      <th></th>\n",
              "      <th>theme</th>\n",
              "      <th>count</th>\n",
              "    </tr>\n",
              "  </thead>\n",
              "  <tbody>\n",
              "    <tr>\n",
              "      <th>0</th>\n",
              "      <td>GENERAL_GOVERNMENT</td>\n",
              "      <td>33677</td>\n",
              "    </tr>\n",
              "    <tr>\n",
              "      <th>1</th>\n",
              "      <td>LEADER</td>\n",
              "      <td>33405</td>\n",
              "    </tr>\n",
              "    <tr>\n",
              "      <th>2</th>\n",
              "      <td>TAX_FNCACT_MINISTER</td>\n",
              "      <td>31174</td>\n",
              "    </tr>\n",
              "    <tr>\n",
              "      <th>3</th>\n",
              "      <td>TAX_FNCACT_PRESIDENT</td>\n",
              "      <td>25981</td>\n",
              "    </tr>\n",
              "    <tr>\n",
              "      <th>4</th>\n",
              "      <td>TAX_FNCACT_PRIME_MINISTER</td>\n",
              "      <td>25560</td>\n",
              "    </tr>\n",
              "  </tbody>\n",
              "</table>\n",
              "</div>"
            ],
            "text/plain": [
              "                        theme  count\n",
              "0         GENERAL_GOVERNMENT   33677\n",
              "1                     LEADER   33405\n",
              "2        TAX_FNCACT_MINISTER   31174\n",
              "3       TAX_FNCACT_PRESIDENT   25981\n",
              "4  TAX_FNCACT_PRIME_MINISTER   25560"
            ]
          },
          "metadata": {
            "tags": []
          },
          "execution_count": 12
        }
      ]
    }
  ]
}