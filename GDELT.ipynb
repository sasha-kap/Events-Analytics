{
  "nbformat": 4,
  "nbformat_minor": 0,
  "metadata": {
    "colab": {
      "name": "GDELT.ipynb",
      "provenance": [],
      "collapsed_sections": []
    },
    "kernelspec": {
      "name": "python3",
      "display_name": "Python 3"
    }
  },
  "cells": [
    {
      "cell_type": "markdown",
      "metadata": {
        "id": "9dqBfQPS5TIQ",
        "colab_type": "text"
      },
      "source": [
        "###Provide credentials to the runtime"
      ]
    },
    {
      "cell_type": "code",
      "metadata": {
        "id": "lFWJPxblL9qk",
        "colab_type": "code",
        "outputId": "bf76c6ef-44c3-434b-8383-af5e1aabea99",
        "colab": {
          "base_uri": "https://localhost:8080/",
          "height": 34
        }
      },
      "source": [
        "from google.colab import auth\n",
        "auth.authenticate_user()\n",
        "print('Authenticated')"
      ],
      "execution_count": 1,
      "outputs": [
        {
          "output_type": "stream",
          "text": [
            "Authenticated\n"
          ],
          "name": "stdout"
        }
      ]
    },
    {
      "cell_type": "code",
      "metadata": {
        "id": "IfjmDTMP5ple",
        "colab_type": "code",
        "outputId": "97b03dee-dd9d-41ba-a4c3-f8b7ec7a5cd6",
        "colab": {
          "base_uri": "https://localhost:8080/",
          "height": 51
        }
      },
      "source": [
        "%load_ext google.cloud.bigquery"
      ],
      "execution_count": 0,
      "outputs": [
        {
          "output_type": "stream",
          "text": [
            "The google.cloud.bigquery extension is already loaded. To reload it, use:\n",
            "  %reload_ext google.cloud.bigquery\n"
          ],
          "name": "stdout"
        }
      ]
    },
    {
      "cell_type": "markdown",
      "metadata": {
        "id": "Rkk7wbuET5xO",
        "colab_type": "text"
      },
      "source": [
        "### BigQuery dry run"
      ]
    },
    {
      "cell_type": "code",
      "metadata": {
        "id": "a9DDqKH2T3Df",
        "colab_type": "code",
        "colab": {}
      },
      "source": [
        "from google.cloud import bigquery"
      ],
      "execution_count": 0,
      "outputs": []
    },
    {
      "cell_type": "code",
      "metadata": {
        "id": "FxyI4X467Q4q",
        "colab_type": "code",
        "colab": {
          "base_uri": "https://localhost:8080/",
          "height": 34
        },
        "outputId": "6cb4716a-8b93-49b6-9bce-c3cf47dc0915"
      },
      "source": [
        "import pandas as pd\n",
        "print(pd.__version__)"
      ],
      "execution_count": 3,
      "outputs": [
        {
          "output_type": "stream",
          "text": [
            "0.25.3\n"
          ],
          "name": "stdout"
        }
      ]
    },
    {
      "cell_type": "code",
      "metadata": {
        "id": "N8NKzCplULLj",
        "colab_type": "code",
        "outputId": "d7eefa2f-0419-440e-f4f7-0af08fba9d58",
        "colab": {
          "base_uri": "https://localhost:8080/",
          "height": 34
        }
      },
      "source": [
        "project_id = 'spark-project-254623'\n",
        "\n",
        "client = bigquery.Client(project=project_id)\n",
        "\n",
        "job_config = bigquery.QueryJobConfig()\n",
        "job_config.dry_run = True\n",
        "job_config.use_query_cache = False\n",
        "query_job = client.query(\n",
        "    (\n",
        "        \"SELECT name, COUNT(*) as name_count \"\n",
        "        \"FROM `bigquery-public-data.usa_names.usa_1910_2013` \"\n",
        "        \"WHERE state = 'WA' \"\n",
        "        \"GROUP BY name\"\n",
        "    ),\n",
        "    # Location must match that of the dataset(s) referenced in the query.\n",
        "    location=\"US\",\n",
        "    job_config=job_config,\n",
        ")  # API request\n",
        "\n",
        "# A dry run query completes immediately.\n",
        "assert query_job.state == \"DONE\"\n",
        "assert query_job.dry_run\n",
        "\n",
        "print(\"This query will process {:,} bytes.\".format(query_job.total_bytes_processed))"
      ],
      "execution_count": 0,
      "outputs": [
        {
          "output_type": "stream",
          "text": [
            "This query will process 65,935,918 bytes.\n"
          ],
          "name": "stdout"
        }
      ]
    },
    {
      "cell_type": "code",
      "metadata": {
        "id": "cAj1UD3alAM_",
        "colab_type": "code",
        "outputId": "980edb9a-6678-42ad-ed81-2547ff7783cd",
        "colab": {
          "base_uri": "https://localhost:8080/",
          "height": 34
        }
      },
      "source": [
        "project_id = 'spark-project-254623'\n",
        "\n",
        "client = bigquery.Client(project=project_id)\n",
        "\n",
        "job_config = bigquery.QueryJobConfig()\n",
        "job_config.dry_run = True\n",
        "job_config.use_query_cache = False\n",
        "\n",
        "query_job = client.query(\n",
        "    ('''SELECT\n",
        "      REGEXP_REPLACE(theme, r',.*', \" \") AS theme,\n",
        "      COUNT(*) AS count\n",
        "    FROM\n",
        "      `gdelt-bq.gdeltv2.gkg`,\n",
        "      UNNEST(SPLIT(V2Themes,';')) AS theme\n",
        "    WHERE\n",
        "      DATE>20171012000000\n",
        "      AND DATE < 20171014000000\n",
        "      AND V2Persons like '%Netanyahu%'\n",
        "    GROUP BY\n",
        "      theme\n",
        "    ORDER BY 2 DESC\n",
        "    LIMIT 300\n",
        "    '''),\n",
        "    # Location must match that of the dataset(s) referenced in the query.\n",
        "    location=\"US\",\n",
        "    job_config=job_config,\n",
        ")  # API request\n",
        "\n",
        "# A dry run query completes immediately.\n",
        "assert query_job.state == \"DONE\"\n",
        "assert query_job.dry_run\n",
        "\n",
        "print(\"This query will process {:,} bytes.\".format(query_job.total_bytes_processed))"
      ],
      "execution_count": 0,
      "outputs": [
        {
          "output_type": "stream",
          "text": [
            "This query will process 1,044,331,844,667 bytes.\n"
          ],
          "name": "stdout"
        }
      ]
    },
    {
      "cell_type": "code",
      "metadata": {
        "id": "PNh3-oSEBgjM",
        "colab_type": "code",
        "outputId": "f93b4a7e-8c55-47fd-f5a9-fcbaa84a70a2",
        "colab": {
          "base_uri": "https://localhost:8080/",
          "height": 34
        }
      },
      "source": [
        "project_id = 'spark-project-254623'\n",
        "\n",
        "client = bigquery.Client(project=project_id)\n",
        "\n",
        "job_config = bigquery.QueryJobConfig()\n",
        "job_config.dry_run = True\n",
        "job_config.use_query_cache = False\n",
        "\n",
        "query_job = client.query(\n",
        "    ('''SELECT\n",
        "      REGEXP_REPLACE(theme, r',.*', \" \") AS theme,\n",
        "      COUNT(*) AS count\n",
        "    FROM\n",
        "      `gdelt-bq.gdeltv2.gkg_partitioned`,\n",
        "      UNNEST(SPLIT(V2Themes,';')) AS theme\n",
        "    WHERE\n",
        "      _PARTITIONDATE BETWEEN '2017-10-12' AND '2017-10-14'\n",
        "      AND V2Persons like '%Netanyahu%'\n",
        "    GROUP BY\n",
        "      theme\n",
        "    ORDER BY 2 DESC\n",
        "    LIMIT 300\n",
        "    '''),\n",
        "    # Location must match that of the dataset(s) referenced in the query.\n",
        "    location=\"US\",\n",
        "    job_config=job_config,\n",
        ")  # API request\n",
        "\n",
        "# A dry run query completes immediately.\n",
        "assert query_job.state == \"DONE\"\n",
        "assert query_job.dry_run\n",
        "\n",
        "print(\"This query will process {:,} bytes.\".format(query_job.total_bytes_processed))"
      ],
      "execution_count": 0,
      "outputs": [
        {
          "output_type": "stream",
          "text": [
            "This query will process 1,884,427,247 bytes.\n"
          ],
          "name": "stdout"
        }
      ]
    },
    {
      "cell_type": "code",
      "metadata": {
        "id": "XVppaYuAVEgN",
        "colab_type": "code",
        "outputId": "677c22d2-0785-4cf7-e646-ba09f73d9d2b",
        "colab": {
          "base_uri": "https://localhost:8080/",
          "height": 34
        }
      },
      "source": [
        "project_id = 'spark-project-254623'\n",
        "\n",
        "client = bigquery.Client(project=project_id)\n",
        "\n",
        "job_config = bigquery.QueryJobConfig()\n",
        "job_config.dry_run = True\n",
        "job_config.use_query_cache = False\n",
        "\n",
        "sql =  '''SELECT\n",
        "            GLOBALEVENTID \n",
        "        FROM `gdelt-bq.gdeltv2.eventmentions_partitioned`\n",
        "        WHERE _PARTITIONDATE BETWEEN '2015-04-01' AND '2015-05-31'\n",
        "            AND MentionIdentifier IN\n",
        "            (SELECT\n",
        "            DocumentIdentifier \n",
        "        FROM `gdelt-bq.gdeltv2.gkg_partitioned` \n",
        "        WHERE\n",
        "            _PARTITIONDATE BETWEEN '2015-04-01' AND '2015-05-31')\n",
        "        GROUP BY\n",
        "            GLOBALEVENTID\n",
        "        '''\n",
        "\n",
        "query_job = client.query(\n",
        "    sql,\n",
        "    # Location must match that of the dataset(s) referenced in the query.\n",
        "    location=\"US\",\n",
        "    job_config=job_config,\n",
        ")  # API request\n",
        "\n",
        "# A dry run query completes immediately.\n",
        "assert query_job.state == \"DONE\"\n",
        "assert query_job.dry_run\n",
        "\n",
        "print(\"This query will process {:,} bytes.\".format(query_job.total_bytes_processed))"
      ],
      "execution_count": 0,
      "outputs": [
        {
          "output_type": "stream",
          "text": [
            "This query will process 8,293,038,171 bytes.\n"
          ],
          "name": "stdout"
        }
      ]
    },
    {
      "cell_type": "markdown",
      "metadata": {
        "id": "TlCh1wMV-8zr",
        "colab_type": "text"
      },
      "source": [
        "###Use BigQuery via magics\n",
        "The google.cloud.bigquery library includes a magic command which runs a query and either displays the result or saves it to a variable as a DataFrame."
      ]
    },
    {
      "cell_type": "code",
      "metadata": {
        "id": "NaPeKUOT90t5",
        "colab_type": "code",
        "colab": {}
      },
      "source": [
        "# Save output in a variable `df`\n",
        "\n",
        "%%bigquery --project bq-project-248900 df\n",
        "SELECT\n",
        "  REGEXP_REPLACE(theme, r',.*', \" \") AS theme,\n",
        "  COUNT(*) AS count\n",
        "FROM\n",
        "  `gdelt-bq.gdeltv2.gkg`,\n",
        "  UNNEST(SPLIT(V2Themes,';')) AS theme\n",
        "WHERE\n",
        "  DATE>20150302000000\n",
        "  AND DATE < 20150304000000\n",
        "  AND V2Persons like '%Netanyahu%'\n",
        "GROUP BY\n",
        "  theme\n",
        "ORDER BY 2 DESC\n",
        "LIMIT 300"
      ],
      "execution_count": 0,
      "outputs": []
    },
    {
      "cell_type": "code",
      "metadata": {
        "id": "k3oquDv2aus-",
        "colab_type": "code",
        "outputId": "ff806585-2ff6-446f-d7d5-52b257d244bd",
        "colab": {
          "base_uri": "https://localhost:8080/",
          "height": 204
        }
      },
      "source": [
        "df.head()"
      ],
      "execution_count": 0,
      "outputs": [
        {
          "output_type": "execute_result",
          "data": {
            "text/html": [
              "<div>\n",
              "<style scoped>\n",
              "    .dataframe tbody tr th:only-of-type {\n",
              "        vertical-align: middle;\n",
              "    }\n",
              "\n",
              "    .dataframe tbody tr th {\n",
              "        vertical-align: top;\n",
              "    }\n",
              "\n",
              "    .dataframe thead th {\n",
              "        text-align: right;\n",
              "    }\n",
              "</style>\n",
              "<table border=\"1\" class=\"dataframe\">\n",
              "  <thead>\n",
              "    <tr style=\"text-align: right;\">\n",
              "      <th></th>\n",
              "      <th>theme</th>\n",
              "      <th>count</th>\n",
              "    </tr>\n",
              "  </thead>\n",
              "  <tbody>\n",
              "    <tr>\n",
              "      <th>0</th>\n",
              "      <td>GENERAL_GOVERNMENT</td>\n",
              "      <td>33677</td>\n",
              "    </tr>\n",
              "    <tr>\n",
              "      <th>1</th>\n",
              "      <td>LEADER</td>\n",
              "      <td>33405</td>\n",
              "    </tr>\n",
              "    <tr>\n",
              "      <th>2</th>\n",
              "      <td>TAX_FNCACT_MINISTER</td>\n",
              "      <td>31174</td>\n",
              "    </tr>\n",
              "    <tr>\n",
              "      <th>3</th>\n",
              "      <td>TAX_FNCACT_PRESIDENT</td>\n",
              "      <td>25981</td>\n",
              "    </tr>\n",
              "    <tr>\n",
              "      <th>4</th>\n",
              "      <td>TAX_FNCACT_PRIME_MINISTER</td>\n",
              "      <td>25560</td>\n",
              "    </tr>\n",
              "  </tbody>\n",
              "</table>\n",
              "</div>"
            ],
            "text/plain": [
              "                        theme  count\n",
              "0         GENERAL_GOVERNMENT   33677\n",
              "1                     LEADER   33405\n",
              "2        TAX_FNCACT_MINISTER   31174\n",
              "3       TAX_FNCACT_PRESIDENT   25981\n",
              "4  TAX_FNCACT_PRIME_MINISTER   25560"
            ]
          },
          "metadata": {
            "tags": []
          },
          "execution_count": 12
        }
      ]
    },
    {
      "cell_type": "code",
      "metadata": {
        "id": "bNpNVvHZE_wz",
        "colab_type": "code",
        "colab": {}
      },
      "source": [
        "# Save output in a variable `df`\n",
        "\n",
        "%%bigquery --project bq-project-248900 df\n",
        "SELECT\n",
        "  REGEXP_REPLACE(theme, r',.*', \" \") AS theme,\n",
        "  COUNT(*) AS count\n",
        "FROM\n",
        "  (SELECT V2Themes, DATE, V2Persons FROM `gdelt-bq.gdeltv2.gkg`),\n",
        "  UNNEST(SPLIT(V2Themes,';')) AS theme\n",
        "WHERE\n",
        "  DATE>20150302000000\n",
        "  AND DATE < 20150304000000\n",
        "  AND V2Persons like '%Netanyahu%'\n",
        "GROUP BY\n",
        "  theme\n",
        "ORDER BY 2 DESC\n",
        "LIMIT 300"
      ],
      "execution_count": 0,
      "outputs": []
    },
    {
      "cell_type": "code",
      "metadata": {
        "id": "R0SQm2xuLncI",
        "colab_type": "code",
        "outputId": "e90c0d78-65bf-457e-af78-0374159a85ce",
        "colab": {
          "base_uri": "https://localhost:8080/",
          "height": 204
        }
      },
      "source": [
        "df.head()"
      ],
      "execution_count": 0,
      "outputs": [
        {
          "output_type": "execute_result",
          "data": {
            "text/html": [
              "<div>\n",
              "<style scoped>\n",
              "    .dataframe tbody tr th:only-of-type {\n",
              "        vertical-align: middle;\n",
              "    }\n",
              "\n",
              "    .dataframe tbody tr th {\n",
              "        vertical-align: top;\n",
              "    }\n",
              "\n",
              "    .dataframe thead th {\n",
              "        text-align: right;\n",
              "    }\n",
              "</style>\n",
              "<table border=\"1\" class=\"dataframe\">\n",
              "  <thead>\n",
              "    <tr style=\"text-align: right;\">\n",
              "      <th></th>\n",
              "      <th>theme</th>\n",
              "      <th>count</th>\n",
              "    </tr>\n",
              "  </thead>\n",
              "  <tbody>\n",
              "    <tr>\n",
              "      <th>0</th>\n",
              "      <td>GENERAL_GOVERNMENT</td>\n",
              "      <td>33677</td>\n",
              "    </tr>\n",
              "    <tr>\n",
              "      <th>1</th>\n",
              "      <td>LEADER</td>\n",
              "      <td>33405</td>\n",
              "    </tr>\n",
              "    <tr>\n",
              "      <th>2</th>\n",
              "      <td>TAX_FNCACT_MINISTER</td>\n",
              "      <td>31174</td>\n",
              "    </tr>\n",
              "    <tr>\n",
              "      <th>3</th>\n",
              "      <td>TAX_FNCACT_PRESIDENT</td>\n",
              "      <td>25981</td>\n",
              "    </tr>\n",
              "    <tr>\n",
              "      <th>4</th>\n",
              "      <td>TAX_FNCACT_PRIME_MINISTER</td>\n",
              "      <td>25560</td>\n",
              "    </tr>\n",
              "  </tbody>\n",
              "</table>\n",
              "</div>"
            ],
            "text/plain": [
              "                        theme  count\n",
              "0         GENERAL_GOVERNMENT   33677\n",
              "1                     LEADER   33405\n",
              "2        TAX_FNCACT_MINISTER   31174\n",
              "3       TAX_FNCACT_PRESIDENT   25981\n",
              "4  TAX_FNCACT_PRIME_MINISTER   25560"
            ]
          },
          "metadata": {
            "tags": []
          },
          "execution_count": 8
        }
      ]
    }
  ]
}