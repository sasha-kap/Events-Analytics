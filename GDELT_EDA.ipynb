{
  "nbformat": 4,
  "nbformat_minor": 0,
  "metadata": {
    "colab": {
      "name": "GDELT_EDA.ipynb",
      "provenance": [],
      "collapsed_sections": [],
      "toc_visible": true,
      "authorship_tag": "ABX9TyP8pW/WrLji65+vbRihbno7",
      "include_colab_link": true
    },
    "kernelspec": {
      "name": "python3",
      "display_name": "Python 3"
    }
  },
  "cells": [
    {
      "cell_type": "markdown",
      "metadata": {
        "id": "view-in-github",
        "colab_type": "text"
      },
      "source": [
        "<a href=\"https://colab.research.google.com/github/sasha-kap/Events-Analytics/blob/master/GDELT_EDA.ipynb\" target=\"_parent\"><img src=\"https://colab.research.google.com/assets/colab-badge.svg\" alt=\"Open In Colab\"/></a>"
      ]
    },
    {
      "cell_type": "markdown",
      "metadata": {
        "id": "ZM24YBmNBWKH",
        "colab_type": "text"
      },
      "source": [
        "### Imports"
      ]
    },
    {
      "cell_type": "code",
      "metadata": {
        "id": "q9Ihs0JNBbiJ",
        "colab_type": "code",
        "colab": {}
      },
      "source": [
        "import pandas as pd\n",
        "import numpy as np\n",
        "pd.set_option('display.max_colwidth',500)\n",
        "\n",
        "import matplotlib.pyplot as plt\n",
        "import matplotlib as mpl\n",
        "%matplotlib inline\n",
        "plt.style.use('seaborn-white') # use plt.style.available to see list of available styles\n",
        "\n",
        "import pickle\n",
        "\n",
        "from google.cloud import bigquery"
      ],
      "execution_count": 34,
      "outputs": []
    },
    {
      "cell_type": "code",
      "metadata": {
        "id": "OjeAKCcUgmuU",
        "colab_type": "code",
        "colab": {
          "base_uri": "https://localhost:8080/",
          "height": 35
        },
        "outputId": "d95c80b0-3bfc-4af6-b003-69317e29790b"
      },
      "source": [
        "import sys\n",
        "sys.version"
      ],
      "execution_count": 2,
      "outputs": [
        {
          "output_type": "execute_result",
          "data": {
            "application/vnd.google.colaboratory.intrinsic+json": {
              "type": "string"
            },
            "text/plain": [
              "'3.6.9 (default, Jul 17 2020, 12:50:27) \\n[GCC 8.4.0]'"
            ]
          },
          "metadata": {
            "tags": []
          },
          "execution_count": 2
        }
      ]
    },
    {
      "cell_type": "code",
      "metadata": {
        "id": "-httFZ-DCFKV",
        "colab_type": "code",
        "colab": {
          "base_uri": "https://localhost:8080/",
          "height": 50
        },
        "outputId": "55127b2d-9def-4ec0-9579-290190dedf80"
      },
      "source": [
        "print(\"matplotlib version:\", mpl.__version__)\n",
        "print(\"pandas version:\", pd.__version__)"
      ],
      "execution_count": 3,
      "outputs": [
        {
          "output_type": "stream",
          "text": [
            "matplotlib version: 3.2.2\n",
            "pandas version: 1.0.5\n"
          ],
          "name": "stdout"
        }
      ]
    },
    {
      "cell_type": "code",
      "metadata": {
        "id": "5J73Go5eCi72",
        "colab_type": "code",
        "colab": {}
      },
      "source": [
        "project_id = 'spark-project-254623'\n",
        "bucket_name = 'spark-projects'"
      ],
      "execution_count": 4,
      "outputs": []
    },
    {
      "cell_type": "markdown",
      "metadata": {
        "id": "9dqBfQPS5TIQ",
        "colab_type": "text"
      },
      "source": [
        "###Provide credentials to the runtime"
      ]
    },
    {
      "cell_type": "code",
      "metadata": {
        "id": "SRXt1nRIzxWA",
        "colab_type": "code",
        "colab": {
          "base_uri": "https://localhost:8080/",
          "height": 34
        },
        "outputId": "78394361-a64f-48fc-9b90-252215c178ff"
      },
      "source": [
        "# authenticates Colab to the Google Cloud account\n",
        "from google.colab import auth\n",
        "auth.authenticate_user()\n",
        "print('Authenticated')"
      ],
      "execution_count": 5,
      "outputs": [
        {
          "output_type": "stream",
          "text": [
            "Authenticated\n"
          ],
          "name": "stdout"
        }
      ]
    },
    {
      "cell_type": "markdown",
      "metadata": {
        "id": "Rkk7wbuET5xO",
        "colab_type": "text"
      },
      "source": [
        "### BigQuery dry run"
      ]
    },
    {
      "cell_type": "markdown",
      "metadata": {
        "id": "k2jsiSleDFOE",
        "colab_type": "text"
      },
      "source": [
        "Dry run query to check query size across different date ranges:"
      ]
    },
    {
      "cell_type": "code",
      "metadata": {
        "id": "XVppaYuAVEgN",
        "colab_type": "code",
        "colab": {
          "base_uri": "https://localhost:8080/",
          "height": 34
        },
        "outputId": "4e75cbd1-41d4-4f82-a95e-969aa74e0fd5"
      },
      "source": [
        "client = bigquery.Client(project=project_id)\n",
        "\n",
        "job_config = bigquery.QueryJobConfig()\n",
        "job_config.dry_run = True\n",
        "job_config.use_query_cache = False\n",
        "\n",
        "sql =   '''\n",
        "        SELECT *\n",
        "        FROM `gdelt-bq.gdeltv2.events_partitioned`\n",
        "        WHERE\n",
        "            _PARTITIONDATE BETWEEN '2018-04-04' AND '2018-04-04'\n",
        "        '''\n",
        "\n",
        "query_job = client.query(\n",
        "    sql,\n",
        "    # Location must match that of the dataset(s) referenced in the query.\n",
        "    location=\"US\",\n",
        "    job_config=job_config,\n",
        ")  # API request\n",
        "\n",
        "# A dry run query completes immediately.\n",
        "assert query_job.state == \"DONE\"\n",
        "assert query_job.dry_run\n",
        "\n",
        "print(\"This query will process {:,} bytes.\".format(query_job.total_bytes_processed))"
      ],
      "execution_count": 6,
      "outputs": [
        {
          "output_type": "stream",
          "text": [
            "This query will process 144,510,139 bytes.\n"
          ],
          "name": "stdout"
        }
      ]
    },
    {
      "cell_type": "markdown",
      "metadata": {
        "colab_type": "text",
        "id": "SuQQTbEjM1g0"
      },
      "source": [
        "### Query Events Table"
      ]
    },
    {
      "cell_type": "code",
      "metadata": {
        "id": "ozvBpLtoM8kZ",
        "colab_type": "code",
        "colab": {}
      },
      "source": [
        "client = bigquery.Client(project=project_id)\n",
        "\n",
        "sql =   '''\n",
        "        SELECT *\n",
        "        FROM `gdelt-bq.gdeltv2.events_partitioned`\n",
        "        WHERE\n",
        "            _PARTITIONDATE BETWEEN '2019-12-01' AND '2019-12-07'\n",
        "        '''\n",
        "\n",
        "df = client.query(sql, location=\"US\").to_dataframe()"
      ],
      "execution_count": null,
      "outputs": []
    },
    {
      "cell_type": "markdown",
      "metadata": {
        "id": "CZsKGjlh_HrM",
        "colab_type": "text"
      },
      "source": [
        "### Save DataFrame to Pickle and then copy to existing Cloud Storage bucket"
      ]
    },
    {
      "cell_type": "code",
      "metadata": {
        "id": "HS0tf-DbGap5",
        "colab_type": "code",
        "colab": {}
      },
      "source": [
        "df.to_pickle(\"./dec19_wk1_events.pkl\")"
      ],
      "execution_count": null,
      "outputs": []
    },
    {
      "cell_type": "code",
      "metadata": {
        "id": "3r7byPRyHT0H",
        "colab_type": "code",
        "colab": {
          "base_uri": "https://localhost:8080/",
          "height": 272
        },
        "outputId": "851d7838-c631-4b6a-e0ec-1327f47db4bf"
      },
      "source": [
        "# upload file to GCS bucket\n",
        "!gsutil cp ./dec19_wk1_events.pkl gs://{bucket_name}/dec19_wk1_events.pkl"
      ],
      "execution_count": null,
      "outputs": [
        {
          "output_type": "stream",
          "text": [
            "Copying file://./dec19_wk1_events.pkl [Content-Type=application/octet-stream]...\n",
            "/ [0 files][    0.0 B/689.8 MiB]                                                \r==> NOTE: You are uploading one or more large file(s), which would run\n",
            "significantly faster if you enable parallel composite uploads. This\n",
            "feature can be enabled by editing the\n",
            "\"parallel_composite_upload_threshold\" value in your .boto\n",
            "configuration file. However, note that if you do this large files will\n",
            "be uploaded as `composite objects\n",
            "<https://cloud.google.com/storage/docs/composite-objects>`_,which\n",
            "means that any user who downloads such objects will need to have a\n",
            "compiled crcmod installed (see \"gsutil help crcmod\"). This is because\n",
            "without a compiled crcmod, computing checksums on composite objects is\n",
            "so slow that gsutil disables downloads of composite objects.\n",
            "\n",
            "-\n",
            "Operation completed over 1 objects/689.8 MiB.                                    \n"
          ],
          "name": "stdout"
        }
      ]
    },
    {
      "cell_type": "markdown",
      "metadata": {
        "id": "trE3ZXSCOKYP",
        "colab_type": "text"
      },
      "source": [
        "### Copy Pickle file back to Colab instance"
      ]
    },
    {
      "cell_type": "code",
      "metadata": {
        "id": "-ErgU2Gk2shr",
        "colab_type": "code",
        "colab": {
          "base_uri": "https://localhost:8080/",
          "height": 67
        },
        "outputId": "4f965f0e-9a43-4323-f8b3-18819cc0746c"
      },
      "source": [
        "# run authentication before running this cell\n",
        "!gsutil cp gs://{bucket_name}/dec19_wk1_events.pkl ./dec19_wk1_events.pkl\n",
        "\n",
        "df = pd.read_pickle(\"./dec19_wk1_events.pkl\")"
      ],
      "execution_count": 6,
      "outputs": [
        {
          "output_type": "stream",
          "text": [
            "Copying gs://spark-projects/dec19_wk1_events.pkl...\n",
            "| [1 files][689.8 MiB/689.8 MiB]   61.0 MiB/s                                   \n",
            "Operation completed over 1 objects/689.8 MiB.                                    \n"
          ],
          "name": "stdout"
        }
      ]
    },
    {
      "cell_type": "markdown",
      "metadata": {
        "id": "RCeF5pDJOWOG",
        "colab_type": "text"
      },
      "source": [
        "### Exploratory Analysis of Queried Events"
      ]
    },
    {
      "cell_type": "markdown",
      "metadata": {
        "id": "Fhw4CJ8n_IQy",
        "colab_type": "text"
      },
      "source": [
        "#### Dataset Properties\n",
        "\n"
      ]
    },
    {
      "cell_type": "code",
      "metadata": {
        "id": "v73d2-oQTDmO",
        "colab_type": "code",
        "colab": {
          "base_uri": "https://localhost:8080/",
          "height": 34
        },
        "outputId": "2eed7762-5cac-4d13-8950-24b2b52b76d3"
      },
      "source": [
        "print(df.shape)"
      ],
      "execution_count": 7,
      "outputs": [
        {
          "output_type": "stream",
          "text": [
            "(1496551, 61)\n"
          ],
          "name": "stdout"
        }
      ]
    },
    {
      "cell_type": "code",
      "metadata": {
        "id": "asVCcINFTG6W",
        "colab_type": "code",
        "colab": {
          "base_uri": "https://localhost:8080/",
          "height": 336
        },
        "outputId": "1acb8072-194b-4de2-e3d1-0c247cd42430"
      },
      "source": [
        "df.columns"
      ],
      "execution_count": 8,
      "outputs": [
        {
          "output_type": "execute_result",
          "data": {
            "text/plain": [
              "Index(['GLOBALEVENTID', 'SQLDATE', 'MonthYear', 'Year', 'FractionDate',\n",
              "       'Actor1Code', 'Actor1Name', 'Actor1CountryCode', 'Actor1KnownGroupCode',\n",
              "       'Actor1EthnicCode', 'Actor1Religion1Code', 'Actor1Religion2Code',\n",
              "       'Actor1Type1Code', 'Actor1Type2Code', 'Actor1Type3Code', 'Actor2Code',\n",
              "       'Actor2Name', 'Actor2CountryCode', 'Actor2KnownGroupCode',\n",
              "       'Actor2EthnicCode', 'Actor2Religion1Code', 'Actor2Religion2Code',\n",
              "       'Actor2Type1Code', 'Actor2Type2Code', 'Actor2Type3Code', 'IsRootEvent',\n",
              "       'EventCode', 'EventBaseCode', 'EventRootCode', 'QuadClass',\n",
              "       'GoldsteinScale', 'NumMentions', 'NumSources', 'NumArticles', 'AvgTone',\n",
              "       'Actor1Geo_Type', 'Actor1Geo_FullName', 'Actor1Geo_CountryCode',\n",
              "       'Actor1Geo_ADM1Code', 'Actor1Geo_ADM2Code', 'Actor1Geo_Lat',\n",
              "       'Actor1Geo_Long', 'Actor1Geo_FeatureID', 'Actor2Geo_Type',\n",
              "       'Actor2Geo_FullName', 'Actor2Geo_CountryCode', 'Actor2Geo_ADM1Code',\n",
              "       'Actor2Geo_ADM2Code', 'Actor2Geo_Lat', 'Actor2Geo_Long',\n",
              "       'Actor2Geo_FeatureID', 'ActionGeo_Type', 'ActionGeo_FullName',\n",
              "       'ActionGeo_CountryCode', 'ActionGeo_ADM1Code', 'ActionGeo_ADM2Code',\n",
              "       'ActionGeo_Lat', 'ActionGeo_Long', 'ActionGeo_FeatureID', 'DATEADDED',\n",
              "       'SOURCEURL'],\n",
              "      dtype='object')"
            ]
          },
          "metadata": {
            "tags": []
          },
          "execution_count": 8
        }
      ]
    },
    {
      "cell_type": "code",
      "metadata": {
        "id": "B0ihwF1ZX_nc",
        "colab_type": "code",
        "colab": {
          "base_uri": "https://localhost:8080/",
          "height": 1000
        },
        "outputId": "ab4b92e5-8e35-466d-b7c6-540e83593a5d"
      },
      "source": [
        "df.info()"
      ],
      "execution_count": 9,
      "outputs": [
        {
          "output_type": "stream",
          "text": [
            "<class 'pandas.core.frame.DataFrame'>\n",
            "RangeIndex: 1496551 entries, 0 to 1496550\n",
            "Data columns (total 61 columns):\n",
            " #   Column                 Non-Null Count    Dtype  \n",
            "---  ------                 --------------    -----  \n",
            " 0   GLOBALEVENTID          1496551 non-null  int64  \n",
            " 1   SQLDATE                1496551 non-null  int64  \n",
            " 2   MonthYear              1496551 non-null  int64  \n",
            " 3   Year                   1496551 non-null  int64  \n",
            " 4   FractionDate           1496551 non-null  float64\n",
            " 5   Actor1Code             1341035 non-null  object \n",
            " 6   Actor1Name             1341038 non-null  object \n",
            " 7   Actor1CountryCode      783423 non-null   object \n",
            " 8   Actor1KnownGroupCode   23614 non-null    object \n",
            " 9   Actor1EthnicCode       8737 non-null     object \n",
            " 10  Actor1Religion1Code    18476 non-null    object \n",
            " 11  Actor1Religion2Code    5172 non-null     object \n",
            " 12  Actor1Type1Code        686425 non-null   object \n",
            " 13  Actor1Type2Code        39625 non-null    object \n",
            " 14  Actor1Type3Code        1052 non-null     object \n",
            " 15  Actor2Code             1032836 non-null  object \n",
            " 16  Actor2Name             1032836 non-null  object \n",
            " 17  Actor2CountryCode      619282 non-null   object \n",
            " 18  Actor2KnownGroupCode   21336 non-null    object \n",
            " 19  Actor2EthnicCode       7232 non-null     object \n",
            " 20  Actor2Religion1Code    14909 non-null    object \n",
            " 21  Actor2Religion2Code    3676 non-null     object \n",
            " 22  Actor2Type1Code        514827 non-null   object \n",
            " 23  Actor2Type2Code        27832 non-null    object \n",
            " 24  Actor2Type3Code        738 non-null      object \n",
            " 25  IsRootEvent            1496551 non-null  int64  \n",
            " 26  EventCode              1496551 non-null  object \n",
            " 27  EventBaseCode          1496551 non-null  object \n",
            " 28  EventRootCode          1496551 non-null  object \n",
            " 29  QuadClass              1496551 non-null  int64  \n",
            " 30  GoldsteinScale         1496546 non-null  float64\n",
            " 31  NumMentions            1496551 non-null  int64  \n",
            " 32  NumSources             1496551 non-null  int64  \n",
            " 33  NumArticles            1496551 non-null  int64  \n",
            " 34  AvgTone                1496551 non-null  float64\n",
            " 35  Actor1Geo_Type         1496551 non-null  int64  \n",
            " 36  Actor1Geo_FullName     1296711 non-null  object \n",
            " 37  Actor1Geo_CountryCode  1297867 non-null  object \n",
            " 38  Actor1Geo_ADM1Code     1297867 non-null  object \n",
            " 39  Actor1Geo_ADM2Code     752241 non-null   object \n",
            " 40  Actor1Geo_Lat          1296708 non-null  float64\n",
            " 41  Actor1Geo_Long         1296969 non-null  float64\n",
            " 42  Actor1Geo_FeatureID    1297867 non-null  object \n",
            " 43  Actor2Geo_Type         1496551 non-null  int64  \n",
            " 44  Actor2Geo_FullName     999845 non-null   object \n",
            " 45  Actor2Geo_CountryCode  1000649 non-null  object \n",
            " 46  Actor2Geo_ADM1Code     1000649 non-null  object \n",
            " 47  Actor2Geo_ADM2Code     519753 non-null   object \n",
            " 48  Actor2Geo_Lat          999845 non-null   object \n",
            " 49  Actor2Geo_Long         1000045 non-null  object \n",
            " 50  Actor2Geo_FeatureID    1000649 non-null  object \n",
            " 51  ActionGeo_Type         1496551 non-null  int64  \n",
            " 52  ActionGeo_FullName     1447046 non-null  object \n",
            " 53  ActionGeo_CountryCode  1448559 non-null  object \n",
            " 54  ActionGeo_ADM1Code     1448559 non-null  object \n",
            " 55  ActionGeo_ADM2Code     761918 non-null   object \n",
            " 56  ActionGeo_Lat          1447044 non-null  float64\n",
            " 57  ActionGeo_Long         1447397 non-null  float64\n",
            " 58  ActionGeo_FeatureID    1448559 non-null  object \n",
            " 59  DATEADDED              1496551 non-null  int64  \n",
            " 60  SOURCEURL              1496551 non-null  object \n",
            "dtypes: float64(7), int64(13), object(41)\n",
            "memory usage: 696.5+ MB\n"
          ],
          "name": "stdout"
        }
      ]
    },
    {
      "cell_type": "markdown",
      "metadata": {
        "id": "adNOKUsfAfQ8",
        "colab_type": "text"
      },
      "source": [
        "#### Actor and Event Codes"
      ]
    },
    {
      "cell_type": "markdown",
      "metadata": {
        "id": "Dn9pjSt4ahW4",
        "colab_type": "text"
      },
      "source": [
        "Let's import the Event Descriptions lookup table."
      ]
    },
    {
      "cell_type": "code",
      "metadata": {
        "id": "rDaTO1l2Y79f",
        "colab_type": "code",
        "colab": {}
      },
      "source": [
        "event_lt = pd.read_csv(\"https://gdeltproject.org/data/lookups/CAMEO.eventcodes.txt\", sep='\\t', dtype={'CAMEOEVENTCODE':str})"
      ],
      "execution_count": 37,
      "outputs": []
    },
    {
      "cell_type": "code",
      "metadata": {
        "id": "uVk8D9RofbH1",
        "colab_type": "code",
        "colab": {}
      },
      "source": [
        "event_lt.set_index('CAMEOEVENTCODE',inplace=True)"
      ],
      "execution_count": 40,
      "outputs": []
    },
    {
      "cell_type": "code",
      "metadata": {
        "id": "Mg7FOE70aYNW",
        "colab_type": "code",
        "colab": {
          "base_uri": "https://localhost:8080/",
          "height": 225
        },
        "outputId": "15fed23c-1241-419f-84eb-ec94f3c72adf"
      },
      "source": [
        "event_lt.head()"
      ],
      "execution_count": 47,
      "outputs": [
        {
          "output_type": "execute_result",
          "data": {
            "text/html": [
              "<div>\n",
              "<style scoped>\n",
              "    .dataframe tbody tr th:only-of-type {\n",
              "        vertical-align: middle;\n",
              "    }\n",
              "\n",
              "    .dataframe tbody tr th {\n",
              "        vertical-align: top;\n",
              "    }\n",
              "\n",
              "    .dataframe thead th {\n",
              "        text-align: right;\n",
              "    }\n",
              "</style>\n",
              "<table border=\"1\" class=\"dataframe\">\n",
              "  <thead>\n",
              "    <tr style=\"text-align: right;\">\n",
              "      <th></th>\n",
              "      <th>EVENTDESCRIPTION</th>\n",
              "    </tr>\n",
              "    <tr>\n",
              "      <th>CAMEOEVENTCODE</th>\n",
              "      <th></th>\n",
              "    </tr>\n",
              "  </thead>\n",
              "  <tbody>\n",
              "    <tr>\n",
              "      <th>01</th>\n",
              "      <td>MAKE PUBLIC STATEMENT</td>\n",
              "    </tr>\n",
              "    <tr>\n",
              "      <th>010</th>\n",
              "      <td>Make statement, not specified below</td>\n",
              "    </tr>\n",
              "    <tr>\n",
              "      <th>011</th>\n",
              "      <td>Decline comment</td>\n",
              "    </tr>\n",
              "    <tr>\n",
              "      <th>012</th>\n",
              "      <td>Make pessimistic comment</td>\n",
              "    </tr>\n",
              "    <tr>\n",
              "      <th>013</th>\n",
              "      <td>Make optimistic comment</td>\n",
              "    </tr>\n",
              "  </tbody>\n",
              "</table>\n",
              "</div>"
            ],
            "text/plain": [
              "                                   EVENTDESCRIPTION\n",
              "CAMEOEVENTCODE                                     \n",
              "01                            MAKE PUBLIC STATEMENT\n",
              "010             Make statement, not specified below\n",
              "011                                 Decline comment\n",
              "012                        Make pessimistic comment\n",
              "013                         Make optimistic comment"
            ]
          },
          "metadata": {
            "tags": []
          },
          "execution_count": 47
        }
      ]
    },
    {
      "cell_type": "markdown",
      "metadata": {
        "id": "61axXo_3Q2lH",
        "colab_type": "text"
      },
      "source": [
        "First, we see that Actor1Code is not always recorded.  Let's check if there is any correlation between EventCode and whether Actor1Code is present or null."
      ]
    },
    {
      "cell_type": "code",
      "metadata": {
        "id": "Lf0hcUOofu49",
        "colab_type": "code",
        "colab": {
          "base_uri": "https://localhost:8080/",
          "height": 34
        },
        "outputId": "c164ab30-4411-43ed-960a-8c31cb322d98"
      },
      "source": [
        "# tabulate number of unique EventCode's in cases where Actor1Code is null\n",
        "df[df.Actor1Code.isnull()]['EventCode'].unique().shape"
      ],
      "execution_count": null,
      "outputs": [
        {
          "output_type": "execute_result",
          "data": {
            "text/plain": [
              "(200,)"
            ]
          },
          "metadata": {
            "tags": []
          },
          "execution_count": 26
        }
      ]
    },
    {
      "cell_type": "code",
      "metadata": {
        "id": "iOSQUPOQiBRu",
        "colab_type": "code",
        "colab": {
          "base_uri": "https://localhost:8080/",
          "height": 364
        },
        "outputId": "e25dff37-f1c6-4cd8-b864-01baa93758b5"
      },
      "source": [
        "# plot frequencies of EventCode values for events when Actor1Code is null\n",
        "plt.figure(figsize=(30,5))\n",
        "df[df.Actor1Code.isnull()]['EventCode'].value_counts().plot(kind=\"bar\")\n",
        "plt.show()"
      ],
      "execution_count": null,
      "outputs": [
        {
          "output_type": "display_data",
          "data": {
            "image/png": "[encoded data removed]",
            "text/plain": [
              "<Figure size 2160x360 with 1 Axes>"
            ]
          },
          "metadata": {
            "tags": []
          }
        }
      ]
    },
    {
      "cell_type": "code",
      "metadata": {
        "id": "GOS96CJn6ByF",
        "colab_type": "code",
        "colab": {
          "base_uri": "https://localhost:8080/",
          "height": 343
        },
        "outputId": "d49afda1-50c1-499a-e25c-d549ab5cb041"
      },
      "source": [
        "# display top 10 most frequent event codes when Actor1Code is null\n",
        "event_code_cts = df[df.Actor1Code.isnull()]['EventCode'].value_counts().nlargest(10)\n",
        "event_lt.merge(event_code_cts, left_index=True, right_index=True, how='right').rename({'EventCode':'N_EVENTS'},axis=1)"
      ],
      "execution_count": 54,
      "outputs": [
        {
          "output_type": "execute_result",
          "data": {
            "text/html": [
              "<div>\n",
              "<style scoped>\n",
              "    .dataframe tbody tr th:only-of-type {\n",
              "        vertical-align: middle;\n",
              "    }\n",
              "\n",
              "    .dataframe tbody tr th {\n",
              "        vertical-align: top;\n",
              "    }\n",
              "\n",
              "    .dataframe thead th {\n",
              "        text-align: right;\n",
              "    }\n",
              "</style>\n",
              "<table border=\"1\" class=\"dataframe\">\n",
              "  <thead>\n",
              "    <tr style=\"text-align: right;\">\n",
              "      <th></th>\n",
              "      <th>EVENTDESCRIPTION</th>\n",
              "      <th>N_EVENTS</th>\n",
              "    </tr>\n",
              "  </thead>\n",
              "  <tbody>\n",
              "    <tr>\n",
              "      <th>042</th>\n",
              "      <td>Make a visit</td>\n",
              "      <td>23679</td>\n",
              "    </tr>\n",
              "    <tr>\n",
              "      <th>043</th>\n",
              "      <td>Host a visit</td>\n",
              "      <td>16537</td>\n",
              "    </tr>\n",
              "    <tr>\n",
              "      <th>040</th>\n",
              "      <td>Consult, not specified below</td>\n",
              "      <td>15494</td>\n",
              "    </tr>\n",
              "    <tr>\n",
              "      <th>036</th>\n",
              "      <td>Express intent to meet or negotiate</td>\n",
              "      <td>12304</td>\n",
              "    </tr>\n",
              "    <tr>\n",
              "      <th>046</th>\n",
              "      <td>Engage in negotiation</td>\n",
              "      <td>9746</td>\n",
              "    </tr>\n",
              "    <tr>\n",
              "      <th>051</th>\n",
              "      <td>Praise or endorse</td>\n",
              "      <td>8944</td>\n",
              "    </tr>\n",
              "    <tr>\n",
              "      <th>190</th>\n",
              "      <td>Use conventional military force, not specified below</td>\n",
              "      <td>7856</td>\n",
              "    </tr>\n",
              "    <tr>\n",
              "      <th>020</th>\n",
              "      <td>Appeal, not specified below</td>\n",
              "      <td>7204</td>\n",
              "    </tr>\n",
              "    <tr>\n",
              "      <th>112</th>\n",
              "      <td>Accuse, not specified below</td>\n",
              "      <td>4799</td>\n",
              "    </tr>\n",
              "    <tr>\n",
              "      <th>173</th>\n",
              "      <td>Arrest, detain, or charge with legal action</td>\n",
              "      <td>4533</td>\n",
              "    </tr>\n",
              "  </tbody>\n",
              "</table>\n",
              "</div>"
            ],
            "text/plain": [
              "                                         EVENTDESCRIPTION  N_EVENTS\n",
              "042                                          Make a visit     23679\n",
              "043                                          Host a visit     16537\n",
              "040                          Consult, not specified below     15494\n",
              "036                   Express intent to meet or negotiate     12304\n",
              "046                                 Engage in negotiation      9746\n",
              "051                                     Praise or endorse      8944\n",
              "190  Use conventional military force, not specified below      7856\n",
              "020                           Appeal, not specified below      7204\n",
              "112                           Accuse, not specified below      4799\n",
              "173          Arrest, detain, or charge with legal action       4533"
            ]
          },
          "metadata": {
            "tags": []
          },
          "execution_count": 54
        }
      ]
    },
    {
      "cell_type": "code",
      "metadata": {
        "id": "LKsyoW3h8SMb",
        "colab_type": "code",
        "colab": {
          "base_uri": "https://localhost:8080/",
          "height": 364
        },
        "outputId": "43b6feda-9039-42e2-9da0-020fe7a2005a"
      },
      "source": [
        "# plot frequencies of EventCode values for events when Actor1Code is NOT null\n",
        "plt.figure(figsize=(30,5))\n",
        "df[df.Actor1Code.notnull()]['EventCode'].value_counts().plot(kind=\"bar\")\n",
        "plt.show()"
      ],
      "execution_count": null,
      "outputs": [
        {
          "output_type": "display_data",
          "data": {
            "image/png": "[encoded data removed]",
            "text/plain": [
              "<Figure size 2160x360 with 1 Axes>"
            ]
          },
          "metadata": {
            "tags": []
          }
        }
      ]
    },
    {
      "cell_type": "code",
      "metadata": {
        "id": "p25s8tB-YBKf",
        "colab_type": "code",
        "colab": {
          "base_uri": "https://localhost:8080/",
          "height": 343
        },
        "outputId": "7c7fe11e-ea14-41a6-e477-ae28feaa8e3e"
      },
      "source": [
        "# display top 10 most frequent event codes when Actor1Code is NOT null\n",
        "event_code_cts = df[df.Actor1Code.notnull()]['EventCode'].value_counts().nlargest(10)\n",
        "event_lt.merge(event_code_cts, left_index=True, right_index=True, how='right').rename({'EventCode':'N_EVENTS'},axis=1)"
      ],
      "execution_count": 55,
      "outputs": [
        {
          "output_type": "execute_result",
          "data": {
            "text/html": [
              "<div>\n",
              "<style scoped>\n",
              "    .dataframe tbody tr th:only-of-type {\n",
              "        vertical-align: middle;\n",
              "    }\n",
              "\n",
              "    .dataframe tbody tr th {\n",
              "        vertical-align: top;\n",
              "    }\n",
              "\n",
              "    .dataframe thead th {\n",
              "        text-align: right;\n",
              "    }\n",
              "</style>\n",
              "<table border=\"1\" class=\"dataframe\">\n",
              "  <thead>\n",
              "    <tr style=\"text-align: right;\">\n",
              "      <th></th>\n",
              "      <th>EVENTDESCRIPTION</th>\n",
              "      <th>N_EVENTS</th>\n",
              "    </tr>\n",
              "  </thead>\n",
              "  <tbody>\n",
              "    <tr>\n",
              "      <th>010</th>\n",
              "      <td>Make statement, not specified below</td>\n",
              "      <td>112387</td>\n",
              "    </tr>\n",
              "    <tr>\n",
              "      <th>040</th>\n",
              "      <td>Consult, not specified below</td>\n",
              "      <td>91936</td>\n",
              "    </tr>\n",
              "    <tr>\n",
              "      <th>042</th>\n",
              "      <td>Make a visit</td>\n",
              "      <td>87971</td>\n",
              "    </tr>\n",
              "    <tr>\n",
              "      <th>043</th>\n",
              "      <td>Host a visit</td>\n",
              "      <td>86519</td>\n",
              "    </tr>\n",
              "    <tr>\n",
              "      <th>020</th>\n",
              "      <td>Appeal, not specified below</td>\n",
              "      <td>85240</td>\n",
              "    </tr>\n",
              "    <tr>\n",
              "      <th>051</th>\n",
              "      <td>Praise or endorse</td>\n",
              "      <td>75117</td>\n",
              "    </tr>\n",
              "    <tr>\n",
              "      <th>036</th>\n",
              "      <td>Express intent to meet or negotiate</td>\n",
              "      <td>50253</td>\n",
              "    </tr>\n",
              "    <tr>\n",
              "      <th>190</th>\n",
              "      <td>Use conventional military force, not specified below</td>\n",
              "      <td>47812</td>\n",
              "    </tr>\n",
              "    <tr>\n",
              "      <th>046</th>\n",
              "      <td>Engage in negotiation</td>\n",
              "      <td>44446</td>\n",
              "    </tr>\n",
              "    <tr>\n",
              "      <th>173</th>\n",
              "      <td>Arrest, detain, or charge with legal action</td>\n",
              "      <td>40946</td>\n",
              "    </tr>\n",
              "  </tbody>\n",
              "</table>\n",
              "</div>"
            ],
            "text/plain": [
              "                                         EVENTDESCRIPTION  N_EVENTS\n",
              "010                   Make statement, not specified below    112387\n",
              "040                          Consult, not specified below     91936\n",
              "042                                          Make a visit     87971\n",
              "043                                          Host a visit     86519\n",
              "020                           Appeal, not specified below     85240\n",
              "051                                     Praise or endorse     75117\n",
              "036                   Express intent to meet or negotiate     50253\n",
              "190  Use conventional military force, not specified below     47812\n",
              "046                                 Engage in negotiation     44446\n",
              "173          Arrest, detain, or charge with legal action      40946"
            ]
          },
          "metadata": {
            "tags": []
          },
          "execution_count": 55
        }
      ]
    },
    {
      "cell_type": "code",
      "metadata": {
        "id": "O5txbNWHZBAg",
        "colab_type": "code",
        "colab": {
          "base_uri": "https://localhost:8080/",
          "height": 51
        },
        "outputId": "511b807d-720a-47fc-a91e-435ea98e6f7d"
      },
      "source": [
        "#get counts of '010' code in the EventCode column, grouped by whether Actor1Code is null or not null\n",
        "print(\"count of 010 code when Actor1Code is null:\", int(df[(df.Actor1Code.isnull()) & (df.EventCode == '010')]['EventCode'].value_counts().values))\n",
        "print(\"count of 010 code when Actor1Code is not null:\", int(df[(df.Actor1Code.notnull()) & (df.EventCode == '010')]['EventCode'].value_counts().values))"
      ],
      "execution_count": null,
      "outputs": [
        {
          "output_type": "stream",
          "text": [
            "count of 010 code when Actor1Code is null: 1485\n",
            "count of 010 code when Actor1Code is not null: 112387\n"
          ],
          "name": "stdout"
        }
      ]
    },
    {
      "cell_type": "markdown",
      "metadata": {
        "id": "K9h5XronYzsP",
        "colab_type": "text"
      },
      "source": [
        "010 Code appears quite frequently when Actor1Code is NOT null, but rarely when it IS null.  Per https://www.gdeltproject.org/data/lookups/CAMEO.eventcodes.txt, 010 is \"Make statement, unspecified\".  So, there is this one noticeable difference, but many codes still appear in large numbers regardless of Actor1Code being present."
      ]
    },
    {
      "cell_type": "markdown",
      "metadata": {
        "id": "nuPX_tuGTzOj",
        "colab_type": "text"
      },
      "source": [
        "Let's look into Actor2Code.  Maybe it can help us better understand the relationship between EventCode and presence of one or both of the ActorCode's."
      ]
    },
    {
      "cell_type": "code",
      "metadata": {
        "id": "NNjxq1o0_Yvw",
        "colab_type": "code",
        "colab": {
          "base_uri": "https://localhost:8080/",
          "height": 85
        },
        "outputId": "36867a6e-c601-4c31-b733-905e144a9351"
      },
      "source": [
        "# Check for overlaps between presence of Actor1Code and Actor2Code\n",
        "print(\"Actor1Code NULL, Actor2Code NOT NULL:\", df[df.Actor1Code.isnull() & df.Actor2Code.notnull()].shape[0], f\"{df[df.Actor1Code.isnull() & df.Actor2Code.notnull()].shape[0] / df.shape[0] :.2%}\")\n",
        "print(\"Actor1Code NULL, Actor2Code NULL:\", df[df.Actor1Code.isnull() & df.Actor2Code.isnull()].shape[0], f\"{df[df.Actor1Code.isnull() & df.Actor2Code.isnull()].shape[0] / df.shape[0] :.2%}\")\n",
        "print(\"Actor1Code NOT NULL, Actor2Code NOT NULL:\", df[df.Actor1Code.notnull() & df.Actor2Code.notnull()].shape[0], f\"{df[df.Actor1Code.notnull() & df.Actor2Code.notnull()].shape[0] / df.shape[0] :.2%}\")\n",
        "print(\"Actor1Code NOT NULL, Actor2Code NULL:\", df[df.Actor1Code.notnull() & df.Actor2Code.isnull()].shape[0], f\"{df[df.Actor1Code.notnull() & df.Actor2Code.isnull()].shape[0] / df.shape[0] :.2%}\")"
      ],
      "execution_count": null,
      "outputs": [
        {
          "output_type": "stream",
          "text": [
            "Actor1Code NULL, Actor2Code NOT NULL: 155514 10.39%\n",
            "Actor1Code NULL, Actor2Code NULL: 2 0.00%\n",
            "Actor1Code NOT NULL, Actor2Code NOT NULL: 877322 58.62%\n",
            "Actor1Code NOT NULL, Actor2Code NULL: 463713 30.99%\n"
          ],
          "name": "stdout"
        }
      ]
    },
    {
      "cell_type": "markdown",
      "metadata": {
        "id": "-ykfMUX1Udbf",
        "colab_type": "text"
      },
      "source": [
        "We see that when Actor1Code is null, Actor2Code is almost always not null.  So at least we can get one actor in those cases.\n",
        "When Actor1Code is not null, Actor2Code is present only about 60% of the time.\n",
        "It will need to be determined what it means for one of the ActorCode fields to be present and for the second to be null."
      ]
    },
    {
      "cell_type": "markdown",
      "metadata": {
        "id": "awaMBV_NdUY5",
        "colab_type": "text"
      },
      "source": [
        "Let's check if there is a noticeable difference in EventCode values when Actor2Code is null versus not null, with Actor1Code present."
      ]
    },
    {
      "cell_type": "code",
      "metadata": {
        "id": "N2ZjV1wm8a67",
        "colab_type": "code",
        "colab": {
          "base_uri": "https://localhost:8080/",
          "height": 364
        },
        "outputId": "351c0865-4aba-41a1-9d2f-709132e2bbc9"
      },
      "source": [
        "# plot frequencies of EventCode values for events when Actor1Code is NOT null and Actor2Code IS null\n",
        "plt.figure(figsize=(30,5))\n",
        "df[df.Actor1Code.notnull() & df.Actor2Code.isnull()]['EventCode'].value_counts().plot(kind=\"bar\")\n",
        "plt.show()"
      ],
      "execution_count": null,
      "outputs": [
        {
          "output_type": "display_data",
          "data": {
            "image/png": "[encoded data removed]",
            "text/plain": [
              "<Figure size 2160x360 with 1 Axes>"
            ]
          },
          "metadata": {
            "tags": []
          }
        }
      ]
    },
    {
      "cell_type": "code",
      "metadata": {
        "id": "rtGIUfFr-OgZ",
        "colab_type": "code",
        "colab": {
          "base_uri": "https://localhost:8080/",
          "height": 410
        },
        "outputId": "ddb9337f-1dba-4845-8564-4629c19affc5"
      },
      "source": [
        "# plot frequencies of EventCode values for events when Actor1Code is NOT null and Actor2Code is NOT null\n",
        "plt.figure(figsize=(30,5))\n",
        "df[df.Actor1Code.notnull() & df.Actor2Code.notnull()]['EventCode'].value_counts().plot(kind=\"bar\")\n",
        "plt.show()"
      ],
      "execution_count": null,
      "outputs": [
        {
          "output_type": "display_data",
          "data": {
            "image/png": "[encoded data removed]",
            "text/plain": [
              "<Figure size 2400x400 with 1 Axes>"
            ]
          },
          "metadata": {
            "tags": []
          }
        }
      ]
    },
    {
      "cell_type": "code",
      "metadata": {
        "id": "iWEZHH7ShHwY",
        "colab_type": "code",
        "colab": {}
      },
      "source": [
        "# let's plot the counts side by side for each EventCode (just the top 10 for case when Actor2Code is present and when it is null)\n",
        "# first, subset the dataframe to rows where Actor1Code is not null\n",
        "temp_df = df[df.Actor1Code.notnull()][['EventCode','Actor2Code']]\n",
        "\n",
        "# create boolean column indicating whether Actor2Code is null or not null\n",
        "temp_df['Actor2CodeIsNull'] = temp_df['Actor2Code'].apply(lambda x: x is None)\n",
        "\n",
        "# create column that includes counts of each EventCode value, grouped by Actor2CodeIsNull, in the corresponding rows\n",
        "temp_df['Count'] = temp_df.groupby(['EventCode','Actor2CodeIsNull']).transform(len)\n",
        "\n",
        "# create column ranking count values within each Actor2CodeIsNull category (largest counts receive smallest(top) rank values)\n",
        "temp_df['Rank'] = temp_df.groupby('Actor2CodeIsNull')['Count'].rank(ascending=False, method='min')\n",
        "\n",
        "# subset dataframe to rows where Rank value is at or below the 10th smallest Rank value in Actor2CodeIsNull group\n",
        "cond_null = (temp_df.Actor2CodeIsNull == 1) & (temp_df.Rank <= np.sort(temp_df[temp_df.Actor2CodeIsNull == 1]['Rank'].unique())[9])\n",
        "cond_notnull = (temp_df.Actor2CodeIsNull == 0) & (temp_df.Rank <= np.sort(temp_df[temp_df.Actor2CodeIsNull == 0]['Rank'].unique())[9])\n",
        "\n",
        "# verify the results\n",
        "vc = pd.DataFrame(temp_df[cond_null | cond_notnull].groupby('Actor2CodeIsNull')['EventCode'].value_counts())\n",
        "vc.rename(columns={'EventCode':\"N_EVENTS\"}, inplace=True)"
      ],
      "execution_count": 83,
      "outputs": []
    },
    {
      "cell_type": "code",
      "metadata": {
        "id": "TaV2oEE0lia7",
        "colab_type": "code",
        "colab": {
          "base_uri": "https://localhost:8080/",
          "height": 669
        },
        "outputId": "726ed106-7db7-425e-977e-0d0ad2a93799"
      },
      "source": [
        "# merge with event code descriptions lookup table\n",
        "event_lt.index.names = ['EventCode']\n",
        "event_lt.join(vc,how='inner')"
      ],
      "execution_count": 88,
      "outputs": [
        {
          "output_type": "execute_result",
          "data": {
            "text/html": [
              "<div>\n",
              "<style scoped>\n",
              "    .dataframe tbody tr th:only-of-type {\n",
              "        vertical-align: middle;\n",
              "    }\n",
              "\n",
              "    .dataframe tbody tr th {\n",
              "        vertical-align: top;\n",
              "    }\n",
              "\n",
              "    .dataframe thead th {\n",
              "        text-align: right;\n",
              "    }\n",
              "</style>\n",
              "<table border=\"1\" class=\"dataframe\">\n",
              "  <thead>\n",
              "    <tr style=\"text-align: right;\">\n",
              "      <th></th>\n",
              "      <th></th>\n",
              "      <th>EVENTDESCRIPTION</th>\n",
              "      <th>N_EVENTS</th>\n",
              "    </tr>\n",
              "    <tr>\n",
              "      <th>Actor2CodeIsNull</th>\n",
              "      <th>EventCode</th>\n",
              "      <th></th>\n",
              "      <th></th>\n",
              "    </tr>\n",
              "  </thead>\n",
              "  <tbody>\n",
              "    <tr>\n",
              "      <th rowspan=\"10\" valign=\"top\">False</th>\n",
              "      <th>040</th>\n",
              "      <td>Consult, not specified below</td>\n",
              "      <td>70096</td>\n",
              "    </tr>\n",
              "    <tr>\n",
              "      <th>042</th>\n",
              "      <td>Make a visit</td>\n",
              "      <td>69304</td>\n",
              "    </tr>\n",
              "    <tr>\n",
              "      <th>010</th>\n",
              "      <td>Make statement, not specified below</td>\n",
              "      <td>65855</td>\n",
              "    </tr>\n",
              "    <tr>\n",
              "      <th>043</th>\n",
              "      <td>Host a visit</td>\n",
              "      <td>64852</td>\n",
              "    </tr>\n",
              "    <tr>\n",
              "      <th>020</th>\n",
              "      <td>Appeal, not specified below</td>\n",
              "      <td>52323</td>\n",
              "    </tr>\n",
              "    <tr>\n",
              "      <th>051</th>\n",
              "      <td>Praise or endorse</td>\n",
              "      <td>49994</td>\n",
              "    </tr>\n",
              "    <tr>\n",
              "      <th>046</th>\n",
              "      <td>Engage in negotiation</td>\n",
              "      <td>35405</td>\n",
              "    </tr>\n",
              "    <tr>\n",
              "      <th>190</th>\n",
              "      <td>Use conventional military force, not specified below</td>\n",
              "      <td>34311</td>\n",
              "    </tr>\n",
              "    <tr>\n",
              "      <th>036</th>\n",
              "      <td>Express intent to meet or negotiate</td>\n",
              "      <td>34229</td>\n",
              "    </tr>\n",
              "    <tr>\n",
              "      <th>173</th>\n",
              "      <td>Arrest, detain, or charge with legal action</td>\n",
              "      <td>30584</td>\n",
              "    </tr>\n",
              "    <tr>\n",
              "      <th rowspan=\"10\" valign=\"top\">True</th>\n",
              "      <th>010</th>\n",
              "      <td>Make statement, not specified below</td>\n",
              "      <td>46532</td>\n",
              "    </tr>\n",
              "    <tr>\n",
              "      <th>020</th>\n",
              "      <td>Appeal, not specified below</td>\n",
              "      <td>32917</td>\n",
              "    </tr>\n",
              "    <tr>\n",
              "      <th>051</th>\n",
              "      <td>Praise or endorse</td>\n",
              "      <td>25123</td>\n",
              "    </tr>\n",
              "    <tr>\n",
              "      <th>040</th>\n",
              "      <td>Consult, not specified below</td>\n",
              "      <td>21840</td>\n",
              "    </tr>\n",
              "    <tr>\n",
              "      <th>043</th>\n",
              "      <td>Host a visit</td>\n",
              "      <td>21667</td>\n",
              "    </tr>\n",
              "    <tr>\n",
              "      <th>042</th>\n",
              "      <td>Make a visit</td>\n",
              "      <td>18667</td>\n",
              "    </tr>\n",
              "    <tr>\n",
              "      <th>036</th>\n",
              "      <td>Express intent to meet or negotiate</td>\n",
              "      <td>16024</td>\n",
              "    </tr>\n",
              "    <tr>\n",
              "      <th>090</th>\n",
              "      <td>Investigate, not specified below</td>\n",
              "      <td>15638</td>\n",
              "    </tr>\n",
              "    <tr>\n",
              "      <th>120</th>\n",
              "      <td>Reject, not specified below</td>\n",
              "      <td>14419</td>\n",
              "    </tr>\n",
              "    <tr>\n",
              "      <th>190</th>\n",
              "      <td>Use conventional military force, not specified below</td>\n",
              "      <td>13501</td>\n",
              "    </tr>\n",
              "  </tbody>\n",
              "</table>\n",
              "</div>"
            ],
            "text/plain": [
              "                                                                EVENTDESCRIPTION  N_EVENTS\n",
              "Actor2CodeIsNull EventCode                                                                \n",
              "False            040                                Consult, not specified below     70096\n",
              "                 042                                                Make a visit     69304\n",
              "                 010                         Make statement, not specified below     65855\n",
              "                 043                                                Host a visit     64852\n",
              "                 020                                 Appeal, not specified below     52323\n",
              "                 051                                           Praise or endorse     49994\n",
              "                 046                                       Engage in negotiation     35405\n",
              "                 190        Use conventional military force, not specified below     34311\n",
              "                 036                         Express intent to meet or negotiate     34229\n",
              "                 173                Arrest, detain, or charge with legal action      30584\n",
              "True             010                         Make statement, not specified below     46532\n",
              "                 020                                 Appeal, not specified below     32917\n",
              "                 051                                           Praise or endorse     25123\n",
              "                 040                                Consult, not specified below     21840\n",
              "                 043                                                Host a visit     21667\n",
              "                 042                                                Make a visit     18667\n",
              "                 036                         Express intent to meet or negotiate     16024\n",
              "                 090                            Investigate, not specified below     15638\n",
              "                 120                                 Reject, not specified below     14419\n",
              "                 190        Use conventional military force, not specified below     13501"
            ]
          },
          "metadata": {
            "tags": []
          },
          "execution_count": 88
        }
      ]
    },
    {
      "cell_type": "code",
      "metadata": {
        "id": "0Os46yOyfH7u",
        "colab_type": "code",
        "colab": {
          "base_uri": "https://localhost:8080/",
          "height": 283
        },
        "outputId": "3a4ffda2-d031-4b47-b25a-f3da9c060e7d"
      },
      "source": [
        "# plot frequencies of EventCode values for events when Actor1Code is NOT null and Actor2Code is NOT null\n",
        "temp_df[cond_null | cond_notnull].groupby('EventCode')['Actor2CodeIsNull'] \\\n",
        "    .value_counts().unstack().plot(kind=\"bar\")\n",
        "plt.show()"
      ],
      "execution_count": 89,
      "outputs": [
        {
          "output_type": "display_data",
          "data": {
            "image/png": "[encoded data removed]",
            "text/plain": [
              "<Figure size 432x288 with 1 Axes>"
            ]
          },
          "metadata": {
            "tags": []
          }
        }
      ]
    },
    {
      "cell_type": "markdown",
      "metadata": {
        "id": "KfzDfYf3duAB",
        "colab_type": "text"
      },
      "source": [
        "There is a bit of a difference in distributions of EventCode values in those situations, but not significant enough or easily interpretable to understand how it relates to the presence of Actor2Code or lack thereof."
      ]
    },
    {
      "cell_type": "code",
      "metadata": {
        "id": "33L6A3GhCp2w",
        "colab_type": "code",
        "colab": {
          "base_uri": "https://localhost:8080/",
          "height": 34
        },
        "outputId": "95afcf26-9d0b-4f0f-89df-27f33d1ed444"
      },
      "source": [
        "#check number of unique Actor1Code values\n",
        "df[df.Actor1Code.notnull()].Actor1Code.value_counts().shape[0]"
      ],
      "execution_count": null,
      "outputs": [
        {
          "output_type": "execute_result",
          "data": {
            "text/plain": [
              "5158"
            ]
          },
          "metadata": {
            "tags": []
          },
          "execution_count": 13
        }
      ]
    },
    {
      "cell_type": "code",
      "metadata": {
        "id": "_euXWgHqI1eJ",
        "colab_type": "code",
        "colab": {
          "base_uri": "https://localhost:8080/",
          "height": 408
        },
        "outputId": "b2207e65-cae1-402e-ac41-a0ad50bbdf53"
      },
      "source": [
        "# plot frequencies of 100 most frequent Actor1Code values\n",
        "plt.figure(figsize=(30,5))\n",
        "df[df.Actor1Code.notnull()]['Actor1Code'].value_counts().nlargest(100).plot(kind=\"bar\")\n",
        "plt.show()"
      ],
      "execution_count": null,
      "outputs": [
        {
          "output_type": "display_data",
          "data": {
            "image/png": "[encoded data removed]",
            "text/plain": [
              "<Figure size 2160x360 with 1 Axes>"
            ]
          },
          "metadata": {
            "tags": []
          }
        }
      ]
    },
    {
      "cell_type": "code",
      "metadata": {
        "id": "YWedmcgfb3hj",
        "colab_type": "code",
        "colab": {
          "base_uri": "https://localhost:8080/",
          "height": 731
        },
        "outputId": "041d17bb-8304-44b9-db57-b886bb8f7a07"
      },
      "source": [
        "# Check the most frequent combinations of Actor1Code and Actor2Code\n",
        "df.groupby([df.Actor1Code, df.Actor2Code]).size().nlargest(40)"
      ],
      "execution_count": null,
      "outputs": [
        {
          "output_type": "execute_result",
          "data": {
            "text/plain": [
              "Actor1Code  Actor2Code\n",
              "USA         GOV           7849\n",
              "GOV         USA           7732\n",
              "USA         EDU           5721\n",
              "            COP           5018\n",
              "COP         USA           4694\n",
              "USA         BUS           4569\n",
              "EDU         USA           4468\n",
              "USA         CVL           4466\n",
              "JUD         USA           4114\n",
              "USA         JUD           3757\n",
              "LEG         GOV           3736\n",
              "BUS         USA           3463\n",
              "CVL         USA           3416\n",
              "GOV         BUS           3284\n",
              "            LEG           3283\n",
              "USA         LEG           3183\n",
              "USAGOV      USA           3150\n",
              "USA         USAGOV        3054\n",
              "GOV         CVL           2771\n",
              "USA         MIL           2635\n",
              "LEG         USA           2527\n",
              "USA         MED           2436\n",
              "BUS         GOV           2422\n",
              "GOV         GBR           2414\n",
              "RUS         UKR           2268\n",
              "UKR         RUS           2234\n",
              "GBR         GOV           2188\n",
              "USA         UKR           2050\n",
              "MIL         USA           2041\n",
              "MED         USA           2028\n",
              "USA         GBR           1964\n",
              "GOV         EDU           1933\n",
              "CVL         GOV           1914\n",
              "GBR         USA           1891\n",
              "GOV         COP           1861\n",
              "JUD         GOV           1810\n",
              "USA         CHN           1771\n",
              "GOV         MED           1728\n",
              "CHN         USA           1663\n",
              "COP         GOV           1596\n",
              "dtype: int64"
            ]
          },
          "metadata": {
            "tags": []
          },
          "execution_count": 21
        }
      ]
    },
    {
      "cell_type": "markdown",
      "metadata": {
        "id": "Wu_GvU0W46Fg",
        "colab_type": "text"
      },
      "source": [
        "Many domestic group codes above (like LEG (Legislature) or MED (Media)) do not include a country code, so it is not clear which country's group is being referenced."
      ]
    },
    {
      "cell_type": "code",
      "metadata": {
        "id": "pznwx7v-z6vP",
        "colab_type": "code",
        "colab": {
          "base_uri": "https://localhost:8080/",
          "height": 34
        },
        "outputId": "b403c60c-5282-4430-f1de-7485a2a52080"
      },
      "source": [
        "# Check which Actor1CountryCode values exist when Actor1Code just has one of the primary or secondary role codes\n",
        "df[df.Actor1Code.isin(['GOV','COP','EDU','MIL','JUD','LEG','BUS','CVL','MED'])]['Actor1CountryCode'].value_counts()"
      ],
      "execution_count": null,
      "outputs": [
        {
          "output_type": "execute_result",
          "data": {
            "text/plain": [
              "Series([], Name: Actor1CountryCode, dtype: int64)"
            ]
          },
          "metadata": {
            "tags": []
          },
          "execution_count": 24
        }
      ]
    },
    {
      "cell_type": "markdown",
      "metadata": {
        "id": "GQbhOdLK5nVs",
        "colab_type": "text"
      },
      "source": [
        "It does not look like Actor1CountryCode can assist in identifying the country of group in the Actor1Code column.  Let's check if Actor1Name can assist."
      ]
    },
    {
      "cell_type": "code",
      "metadata": {
        "id": "FWWfVfgx5yUJ",
        "colab_type": "code",
        "colab": {
          "base_uri": "https://localhost:8080/",
          "height": 221
        },
        "outputId": "15a706ec-7aab-4aab-fc34-fc54e637baa5"
      },
      "source": [
        "df[df.Actor1Code.isin(['GOV','COP','EDU','MIL','JUD','LEG','BUS','CVL','MED'])]['Actor1Name'].value_counts()"
      ],
      "execution_count": null,
      "outputs": [
        {
          "output_type": "execute_result",
          "data": {
            "text/plain": [
              "PRESIDENT                         29993\n",
              "POLICE                            27258\n",
              "GOVERNMENT                        24498\n",
              "COMPANY                           12497\n",
              "SCHOOL                            12002\n",
              "                                  ...  \n",
              "MINIST FOR ECONOMY AND FINANCE        1\n",
              "SCHOOLS                               1\n",
              "ATTACK HELICOPTER                     1\n",
              "NON RESIDENTS                         1\n",
              "AMBASSADOR FOR A                      1\n",
              "Name: Actor1Name, Length: 780, dtype: int64"
            ]
          },
          "metadata": {
            "tags": []
          },
          "execution_count": 29
        }
      ]
    },
    {
      "cell_type": "code",
      "metadata": {
        "id": "pJO2lKCI6egh",
        "colab_type": "code",
        "colab": {
          "base_uri": "https://localhost:8080/",
          "height": 494
        },
        "outputId": "675e7b9a-b2a8-41ee-edca-ad7c80199882"
      },
      "source": [
        "# plot frequencies of 100 most frequent Actor1Name values when Actor1Code has one of the main domestic group values\n",
        "plt.figure(figsize=(30,5))\n",
        "df[df.Actor1Code.isin(['GOV','COP','EDU','MIL','JUD','LEG','BUS','CVL','MED'])]['Actor1Name'].value_counts().nlargest(100).plot(kind=\"bar\")\n",
        "plt.show()"
      ],
      "execution_count": null,
      "outputs": [
        {
          "output_type": "display_data",
          "data": {
            "image/png": "[encoded data removed]",
            "text/plain": [
              "<Figure size 2160x360 with 1 Axes>"
            ]
          },
          "metadata": {
            "tags": []
          }
        }
      ]
    },
    {
      "cell_type": "markdown",
      "metadata": {
        "id": "DC1RzMYyk2Ym",
        "colab_type": "text"
      },
      "source": [
        "Even though documentation says that Actor1Name contains the \"actual name of the Actor1\", Actor1Name values appear to be just more specific categories of Actor1Code, not actual names."
      ]
    },
    {
      "cell_type": "markdown",
      "metadata": {
        "id": "YuMZT_q9pNba",
        "colab_type": "text"
      },
      "source": [
        "Let's investigate the Actor1CountryCode field a bit more."
      ]
    },
    {
      "cell_type": "code",
      "metadata": {
        "id": "GJSBwgm-2fbE",
        "colab_type": "code",
        "colab": {
          "base_uri": "https://localhost:8080/",
          "height": 221
        },
        "outputId": "325761fd-9f40-42d1-bae2-c729ce6b9353"
      },
      "source": [
        "# Check what values the field generally takes.\n",
        "df.Actor1CountryCode.value_counts(dropna=False)"
      ],
      "execution_count": null,
      "outputs": [
        {
          "output_type": "execute_result",
          "data": {
            "text/plain": [
              "NaN    713128\n",
              "USA    192390\n",
              "GBR     43375\n",
              "RUS     33352\n",
              "CHN     23648\n",
              "        ...  \n",
              "SHN        13\n",
              "CAS        11\n",
              "LAM         6\n",
              "SMR         6\n",
              "SCN         4\n",
              "Name: Actor1CountryCode, Length: 217, dtype: int64"
            ]
          },
          "metadata": {
            "tags": []
          },
          "execution_count": 25
        }
      ]
    },
    {
      "cell_type": "code",
      "metadata": {
        "id": "7I5pioTC4SEM",
        "colab_type": "code",
        "colab": {
          "base_uri": "https://localhost:8080/",
          "height": 221
        },
        "outputId": "a9ed94e3-3cd0-4d54-dc7d-7d84bbe6438f"
      },
      "source": [
        "# Check what Actor1Code values exist when Actor1CountryCode is USA\n",
        "df[df.Actor1CountryCode == \"USA\"]['Actor1Code'].value_counts(dropna=False)"
      ],
      "execution_count": null,
      "outputs": [
        {
          "output_type": "execute_result",
          "data": {
            "text/plain": [
              "USA             145273\n",
              "USAGOV           13571\n",
              "USAMED            4133\n",
              "USAJUD            3524\n",
              "MNCUSA            3421\n",
              "                 ...  \n",
              "USAEDUREF            1\n",
              "MNCUSAHLHLEG         1\n",
              "USAGUMMIL            1\n",
              "USAGUMCVL            1\n",
              "MNCUSAAGRBUS         1\n",
              "Name: Actor1Code, Length: 141, dtype: int64"
            ]
          },
          "metadata": {
            "tags": []
          },
          "execution_count": 26
        }
      ]
    },
    {
      "cell_type": "markdown",
      "metadata": {
        "id": "EiUeH2-0Anu2",
        "colab_type": "text"
      },
      "source": [
        "#### Geography Codes"
      ]
    },
    {
      "cell_type": "code",
      "metadata": {
        "id": "P-jmvK7B_5LN",
        "colab_type": "code",
        "colab": {
          "base_uri": "https://localhost:8080/",
          "height": 136
        },
        "outputId": "ad40e453-30e8-4662-b0cf-54ac3910c47f"
      },
      "source": [
        "# Check values of Actor1Geo_Type\n",
        "df.Actor1Geo_Type.value_counts(dropna=False)"
      ],
      "execution_count": null,
      "outputs": [
        {
          "output_type": "execute_result",
          "data": {
            "text/plain": [
              "4    577831\n",
              "1    405877\n",
              "0    198945\n",
              "3    165238\n",
              "2    124355\n",
              "5     24305\n",
              "Name: Actor1Geo_Type, dtype: int64"
            ]
          },
          "metadata": {
            "tags": []
          },
          "execution_count": 22
        }
      ]
    },
    {
      "cell_type": "markdown",
      "metadata": {
        "id": "apaF8YGHqDli",
        "colab_type": "text"
      },
      "source": [
        "It is not clear what the 0 value represents (documentation only identifies 1 through 5). To try and understand what the 0 value represents, let's check the Actor1Geo_Fullname column for those values.  We saw earlier that Actor1Geo_FullName is null roughly the same number of times as there are 0 values in Actor1Geo_Type."
      ]
    },
    {
      "cell_type": "code",
      "metadata": {
        "id": "QoWAAsfyqjiE",
        "colab_type": "code",
        "colab": {
          "base_uri": "https://localhost:8080/",
          "height": 34
        },
        "outputId": "00c179a8-5aad-44a2-ea0b-654ea06544c2"
      },
      "source": [
        "df[df.Actor1Geo_Type == 0]['Actor1Geo_FullName'].value_counts()"
      ],
      "execution_count": null,
      "outputs": [
        {
          "output_type": "execute_result",
          "data": {
            "text/plain": [
              "Series([], Name: Actor1Geo_FullName, dtype: int64)"
            ]
          },
          "metadata": {
            "tags": []
          },
          "execution_count": 18
        }
      ]
    },
    {
      "cell_type": "code",
      "metadata": {
        "id": "GxGfYlx6s1n0",
        "colab_type": "code",
        "colab": {
          "base_uri": "https://localhost:8080/",
          "height": 68
        },
        "outputId": "7ac964a4-e45d-4187-a05b-a4814d2be5cc"
      },
      "source": [
        "df[df.Actor1Geo_FullName.isnull()]['Actor1Geo_Type'].value_counts()"
      ],
      "execution_count": null,
      "outputs": [
        {
          "output_type": "execute_result",
          "data": {
            "text/plain": [
              "0    198945\n",
              "1       895\n",
              "Name: Actor1Geo_Type, dtype: int64"
            ]
          },
          "metadata": {
            "tags": []
          },
          "execution_count": 20
        }
      ]
    },
    {
      "cell_type": "markdown",
      "metadata": {
        "id": "8QqY8NunwK6f",
        "colab_type": "text"
      },
      "source": [
        "So, in all cases when Geo_Type is 0, Geo_FullName is null.  There is a small number of cases when Geo_FullName is null, but Geo_Type takes on the value 1 (Country)."
      ]
    },
    {
      "cell_type": "code",
      "metadata": {
        "id": "Ttpp8yJ0w5al",
        "colab_type": "code",
        "colab": {
          "base_uri": "https://localhost:8080/",
          "height": 68
        },
        "outputId": "76016256-9daa-4989-972d-fc5f9c26e3bd"
      },
      "source": [
        "df[df.Actor1Geo_FullName.isnull() & df.Actor1Geo_Type == 1]['Actor1Geo_CountryCode'].value_counts(dropna=False)"
      ],
      "execution_count": null,
      "outputs": [
        {
          "output_type": "execute_result",
          "data": {
            "text/plain": [
              "RB    830\n",
              "YI     65\n",
              "Name: Actor1Geo_CountryCode, dtype: int64"
            ]
          },
          "metadata": {
            "tags": []
          },
          "execution_count": 21
        }
      ]
    },
    {
      "cell_type": "markdown",
      "metadata": {
        "id": "v6eCi0HgxRwH",
        "colab_type": "text"
      },
      "source": [
        "So, at least country name is available in the Geo_CountryCode field when Geo_FullName is null, except that these two codes (RB and YI are not found in the FIPS10-4 country code list (https://en.wikipedia.org/wiki/List_of_FIPS_country_codes, https://www.gdeltproject.org/data/lookups/FIPS.country.txt)"
      ]
    },
    {
      "cell_type": "code",
      "metadata": {
        "id": "qtZYdvE8Bmou",
        "colab_type": "code",
        "colab": {
          "base_uri": "https://localhost:8080/",
          "height": 731
        },
        "outputId": "4a196824-7e09-445d-fc17-39cce57d05b7"
      },
      "source": [
        "# Check what ActionGeo_CountryCode values exist for those RB and YI Actor1 values\n",
        "df[df.Actor1Geo_FullName.isnull() & (df.Actor1Geo_Type == 1)].groupby(['Actor1Geo_CountryCode','ActionGeo_CountryCode']).size()"
      ],
      "execution_count": null,
      "outputs": [
        {
          "output_type": "execute_result",
          "data": {
            "text/plain": [
              "Actor1Geo_CountryCode  ActionGeo_CountryCode\n",
              "RB                     AL                        11\n",
              "                       AU                         5\n",
              "                       BK                         7\n",
              "                       BO                         1\n",
              "                       BU                         6\n",
              "                       GM                         3\n",
              "                       GR                         2\n",
              "                       HR                         4\n",
              "                       HU                         3\n",
              "                       KV                        21\n",
              "                       MJ                         3\n",
              "                       MK                         4\n",
              "                       MT                         1\n",
              "                       PA                         1\n",
              "                       RB                       682\n",
              "                       RI                        33\n",
              "                       RS                        25\n",
              "                       SA                         1\n",
              "                       SI                         1\n",
              "                       SP                         1\n",
              "                       SW                         7\n",
              "                       SY                         1\n",
              "                       TU                         2\n",
              "                       UK                         1\n",
              "                       US                         1\n",
              "                       UY                         1\n",
              "                       YI                         2\n",
              "YI                     AL                         1\n",
              "                       BE                         1\n",
              "                       BG                         2\n",
              "                       GM                         1\n",
              "                       IN                         1\n",
              "                       IT                         2\n",
              "                       KV                         1\n",
              "                       PL                         1\n",
              "                       RS                         1\n",
              "                       SP                         2\n",
              "                       UK                         2\n",
              "                       US                         1\n",
              "                       YI                        49\n",
              "dtype: int64"
            ]
          },
          "metadata": {
            "tags": []
          },
          "execution_count": 23
        }
      ]
    },
    {
      "cell_type": "code",
      "metadata": {
        "id": "7IOiBceVEj_-",
        "colab_type": "code",
        "colab": {
          "base_uri": "https://localhost:8080/",
          "height": 204
        },
        "outputId": "721951f6-6474-4969-dbb8-06f4e5487598"
      },
      "source": [
        "# Download country code FIPS crosswalk file to check against\n",
        "url = 'https://www.gdeltproject.org/data/lookups/FIPS.country.txt'\n",
        "\n",
        "country_fips_df = pd.read_csv(url, header=None, delimiter='\\t', names=['code','country'])\n",
        "\n",
        "country_fips_df.head()"
      ],
      "execution_count": null,
      "outputs": [
        {
          "output_type": "execute_result",
          "data": {
            "text/html": [
              "<div>\n",
              "<style scoped>\n",
              "    .dataframe tbody tr th:only-of-type {\n",
              "        vertical-align: middle;\n",
              "    }\n",
              "\n",
              "    .dataframe tbody tr th {\n",
              "        vertical-align: top;\n",
              "    }\n",
              "\n",
              "    .dataframe thead th {\n",
              "        text-align: right;\n",
              "    }\n",
              "</style>\n",
              "<table border=\"1\" class=\"dataframe\">\n",
              "  <thead>\n",
              "    <tr style=\"text-align: right;\">\n",
              "      <th></th>\n",
              "      <th>code</th>\n",
              "      <th>country</th>\n",
              "    </tr>\n",
              "  </thead>\n",
              "  <tbody>\n",
              "    <tr>\n",
              "      <th>0</th>\n",
              "      <td>AF</td>\n",
              "      <td>Afghanistan</td>\n",
              "    </tr>\n",
              "    <tr>\n",
              "      <th>1</th>\n",
              "      <td>AX</td>\n",
              "      <td>Akrotiri Sovereign Base Area</td>\n",
              "    </tr>\n",
              "    <tr>\n",
              "      <th>2</th>\n",
              "      <td>AL</td>\n",
              "      <td>Albania</td>\n",
              "    </tr>\n",
              "    <tr>\n",
              "      <th>3</th>\n",
              "      <td>AG</td>\n",
              "      <td>Algeria</td>\n",
              "    </tr>\n",
              "    <tr>\n",
              "      <th>4</th>\n",
              "      <td>AQ</td>\n",
              "      <td>American Samoa</td>\n",
              "    </tr>\n",
              "  </tbody>\n",
              "</table>\n",
              "</div>"
            ],
            "text/plain": [
              "  code                       country\n",
              "0   AF                   Afghanistan\n",
              "1   AX  Akrotiri Sovereign Base Area\n",
              "2   AL                       Albania\n",
              "3   AG                       Algeria\n",
              "4   AQ                American Samoa"
            ]
          },
          "metadata": {
            "tags": []
          },
          "execution_count": 32
        }
      ]
    },
    {
      "cell_type": "code",
      "metadata": {
        "id": "NplKp12yHqxh",
        "colab_type": "code",
        "colab": {
          "base_uri": "https://localhost:8080/",
          "height": 34
        },
        "outputId": "f7cc8564-1ec7-4252-ac55-f202d73b0d8d"
      },
      "source": [
        "# Check whether FIPS10-4 country codes found in the Events table can all be mapped to the crosswalk file\n",
        "event_countries = df.Actor1Geo_CountryCode.values.tolist()\n",
        "xwalk_countries = country_fips_df.code.values.tolist()\n",
        "\n",
        "list(set(event_countries) - set(xwalk_countries))"
      ],
      "execution_count": null,
      "outputs": [
        {
          "output_type": "execute_result",
          "data": {
            "text/plain": [
              "[None, 'YI', 'RB', 'OC']"
            ]
          },
          "metadata": {
            "tags": []
          },
          "execution_count": 34
        }
      ]
    },
    {
      "cell_type": "markdown",
      "metadata": {
        "id": "oXX5Ch86MaM7",
        "colab_type": "text"
      },
      "source": [
        "So, YI, RB and OC are country codes found in the Events table but not in the code-to-country_name crosswalk.  (The same results as above are observed for Actor2Geo_CountryCode and ActionGeo_CountryCode values.  And these three values are also not found in the GENC country code list that superseded FIPS codes.)"
      ]
    },
    {
      "cell_type": "code",
      "metadata": {
        "id": "sYgFzAoa8z8-",
        "colab_type": "code",
        "colab": {
          "base_uri": "https://localhost:8080/",
          "height": 136
        },
        "outputId": "643d7c24-a624-4e52-b417-91d67c43a87c"
      },
      "source": [
        "# Check\n",
        "df[df.Actor1Code.isin(['GOV','COP','EDU','MIL','JUD','LEG','BUS','CVL','MED'])]['Actor1Geo_Type'].value_counts()"
      ],
      "execution_count": null,
      "outputs": [
        {
          "output_type": "execute_result",
          "data": {
            "text/plain": [
              "4    169772\n",
              "1    112544\n",
              "3     52950\n",
              "2     42601\n",
              "0     18963\n",
              "5      8703\n",
              "Name: Actor1Geo_Type, dtype: int64"
            ]
          },
          "metadata": {
            "tags": []
          },
          "execution_count": 32
        }
      ]
    },
    {
      "cell_type": "code",
      "metadata": {
        "id": "PoEReUjg9J1j",
        "colab_type": "code",
        "colab": {
          "base_uri": "https://localhost:8080/",
          "height": 221
        },
        "outputId": "da9237c9-54fb-49a5-bcb3-b07fbe68e488"
      },
      "source": [
        "df[df.Actor1Code.isin(['GOV','COP','EDU','MIL','JUD','LEG','BUS','CVL','MED'])]['Actor1Geo_CountryCode'].value_counts()"
      ],
      "execution_count": null,
      "outputs": [
        {
          "output_type": "execute_result",
          "data": {
            "text/plain": [
              "US    103192\n",
              "IN     22160\n",
              "UK     17888\n",
              "RS     14148\n",
              "UP     10965\n",
              "       ...  \n",
              "TL         1\n",
              "FK         1\n",
              "PC         1\n",
              "IM         1\n",
              "NF         1\n",
              "Name: Actor1Geo_CountryCode, Length: 241, dtype: int64"
            ]
          },
          "metadata": {
            "tags": []
          },
          "execution_count": 34
        }
      ]
    },
    {
      "cell_type": "code",
      "metadata": {
        "id": "KreIR6UaTsA7",
        "colab_type": "code",
        "colab": {}
      },
      "source": [
        ""
      ],
      "execution_count": null,
      "outputs": []
    }
  ]
}