{
  "nbformat": 4,
  "nbformat_minor": 0,
  "metadata": {
    "colab": {
      "name": "GDELT_EDA.ipynb",
      "provenance": [],
      "collapsed_sections": [],
      "authorship_tag": "ABX9TyMyb3P9t9IOGI4rJu/f2Ohb",
      "include_colab_link": true
    },
    "kernelspec": {
      "name": "python3",
      "display_name": "Python 3"
    }
  },
  "cells": [
    {
      "cell_type": "markdown",
      "metadata": {
        "id": "view-in-github",
        "colab_type": "text"
      },
      "source": [
        "<a href=\"https://colab.research.google.com/github/sasha-kap/Events-Analytics/blob/master/GDELT_EDA.ipynb\" target=\"_parent\"><img src=\"https://colab.research.google.com/assets/colab-badge.svg\" alt=\"Open In Colab\"/></a>"
      ]
    },
    {
      "cell_type": "markdown",
      "metadata": {
        "id": "9dqBfQPS5TIQ",
        "colab_type": "text"
      },
      "source": [
        "###Provide credentials to the runtime"
      ]
    },
    {
      "cell_type": "code",
      "metadata": {
        "id": "SRXt1nRIzxWA",
        "colab_type": "code",
        "colab": {
          "base_uri": "https://localhost:8080/",
          "height": 34
        },
        "outputId": "3504cd43-a643-4c92-e4a4-61f40a5e8b97"
      },
      "source": [
        "# authenticates Colab to the Google Cloud account\n",
        "from google.colab import auth\n",
        "auth.authenticate_user()\n",
        "print('Authenticated')"
      ],
      "execution_count": 4,
      "outputs": [
        {
          "output_type": "stream",
          "text": [
            "Authenticated\n"
          ],
          "name": "stdout"
        }
      ]
    },
    {
      "cell_type": "markdown",
      "metadata": {
        "id": "Rkk7wbuET5xO",
        "colab_type": "text"
      },
      "source": [
        "### BigQuery dry run"
      ]
    },
    {
      "cell_type": "code",
      "metadata": {
        "id": "a9DDqKH2T3Df",
        "colab_type": "code",
        "colab": {}
      },
      "source": [
        "from google.cloud import bigquery"
      ],
      "execution_count": 0,
      "outputs": []
    },
    {
      "cell_type": "markdown",
      "metadata": {
        "id": "k2jsiSleDFOE",
        "colab_type": "text"
      },
      "source": [
        "Dry run query to check query size across different date ranges:"
      ]
    },
    {
      "cell_type": "code",
      "metadata": {
        "id": "XVppaYuAVEgN",
        "colab_type": "code",
        "outputId": "92e0815d-de0f-439a-bbb9-1d8de355c408",
        "colab": {
          "base_uri": "https://localhost:8080/",
          "height": 34
        }
      },
      "source": [
        "project_id = 'spark-project-254623'\n",
        "\n",
        "client = bigquery.Client(project=project_id)\n",
        "\n",
        "job_config = bigquery.QueryJobConfig()\n",
        "job_config.dry_run = True\n",
        "job_config.use_query_cache = False\n",
        "\n",
        "sql =   '''\n",
        "        SELECT *\n",
        "        FROM `gdelt-bq.gdeltv2.events_partitioned`\n",
        "        WHERE\n",
        "            _PARTITIONDATE BETWEEN '2018-04-04' AND '2018-04-04'\n",
        "        '''\n",
        "\n",
        "query_job = client.query(\n",
        "    sql,\n",
        "    # Location must match that of the dataset(s) referenced in the query.\n",
        "    location=\"US\",\n",
        "    job_config=job_config,\n",
        ")  # API request\n",
        "\n",
        "# A dry run query completes immediately.\n",
        "assert query_job.state == \"DONE\"\n",
        "assert query_job.dry_run\n",
        "\n",
        "print(\"This query will process {:,} bytes.\".format(query_job.total_bytes_processed))"
      ],
      "execution_count": 5,
      "outputs": [
        {
          "output_type": "stream",
          "text": [
            "This query will process 144,510,139 bytes.\n"
          ],
          "name": "stdout"
        }
      ]
    },
    {
      "cell_type": "markdown",
      "metadata": {
        "colab_type": "text",
        "id": "SuQQTbEjM1g0"
      },
      "source": [
        "### Query Events Table"
      ]
    },
    {
      "cell_type": "code",
      "metadata": {
        "id": "EyCC-9EeNxi4",
        "colab_type": "code",
        "colab": {}
      },
      "source": [
        "import pandas as pd"
      ],
      "execution_count": 0,
      "outputs": []
    },
    {
      "cell_type": "code",
      "metadata": {
        "id": "ozvBpLtoM8kZ",
        "colab_type": "code",
        "colab": {}
      },
      "source": [
        "project_id = 'spark-project-254623'\n",
        "\n",
        "client = bigquery.Client(project=project_id)\n",
        "\n",
        "sql =   '''\n",
        "        SELECT *\n",
        "        FROM `gdelt-bq.gdeltv2.events_partitioned`\n",
        "        WHERE\n",
        "            _PARTITIONDATE BETWEEN '2019-12-01' AND '2019-12-07'\n",
        "        '''\n",
        "\n",
        "df = client.query(sql, location=\"US\").to_dataframe()"
      ],
      "execution_count": 0,
      "outputs": []
    },
    {
      "cell_type": "markdown",
      "metadata": {
        "id": "CZsKGjlh_HrM",
        "colab_type": "text"
      },
      "source": [
        "### Save DataFrame to Pickle and then copy to existing Cloud Storage bucket"
      ]
    },
    {
      "cell_type": "code",
      "metadata": {
        "id": "OE6CoGfo_F1V",
        "colab_type": "code",
        "colab": {}
      },
      "source": [
        "import pickle"
      ],
      "execution_count": 0,
      "outputs": []
    },
    {
      "cell_type": "code",
      "metadata": {
        "id": "HS0tf-DbGap5",
        "colab_type": "code",
        "colab": {}
      },
      "source": [
        "df.to_pickle(\"./dec19_wk1_events.pkl\")"
      ],
      "execution_count": 0,
      "outputs": []
    },
    {
      "cell_type": "code",
      "metadata": {
        "id": "dfwtVnrYGwt1",
        "colab_type": "code",
        "colab": {}
      },
      "source": [
        "bucket_name = 'spark-projects'"
      ],
      "execution_count": 0,
      "outputs": []
    },
    {
      "cell_type": "code",
      "metadata": {
        "id": "3r7byPRyHT0H",
        "colab_type": "code",
        "colab": {
          "base_uri": "https://localhost:8080/",
          "height": 272
        },
        "outputId": "851d7838-c631-4b6a-e0ec-1327f47db4bf"
      },
      "source": [
        "# upload file to GCS bucket\n",
        "!gsutil cp ./dec19_wk1_events.pkl gs://{bucket_name}/dec19_wk1_events.pkl"
      ],
      "execution_count": 11,
      "outputs": [
        {
          "output_type": "stream",
          "text": [
            "Copying file://./dec19_wk1_events.pkl [Content-Type=application/octet-stream]...\n",
            "/ [0 files][    0.0 B/689.8 MiB]                                                \r==> NOTE: You are uploading one or more large file(s), which would run\n",
            "significantly faster if you enable parallel composite uploads. This\n",
            "feature can be enabled by editing the\n",
            "\"parallel_composite_upload_threshold\" value in your .boto\n",
            "configuration file. However, note that if you do this large files will\n",
            "be uploaded as `composite objects\n",
            "<https://cloud.google.com/storage/docs/composite-objects>`_,which\n",
            "means that any user who downloads such objects will need to have a\n",
            "compiled crcmod installed (see \"gsutil help crcmod\"). This is because\n",
            "without a compiled crcmod, computing checksums on composite objects is\n",
            "so slow that gsutil disables downloads of composite objects.\n",
            "\n",
            "-\n",
            "Operation completed over 1 objects/689.8 MiB.                                    \n"
          ],
          "name": "stdout"
        }
      ]
    },
    {
      "cell_type": "markdown",
      "metadata": {
        "id": "trE3ZXSCOKYP",
        "colab_type": "text"
      },
      "source": [
        "### Copy Pickle file back to Colab instance"
      ]
    },
    {
      "cell_type": "markdown",
      "metadata": {
        "id": "RCeF5pDJOWOG",
        "colab_type": "text"
      },
      "source": [
        "### Exploratory Analysis of Queried Events"
      ]
    },
    {
      "cell_type": "code",
      "metadata": {
        "id": "v73d2-oQTDmO",
        "colab_type": "code",
        "colab": {
          "base_uri": "https://localhost:8080/",
          "height": 34
        },
        "outputId": "fbe26007-39a7-4fbd-d515-ff545060c1bd"
      },
      "source": [
        "print(df.shape)"
      ],
      "execution_count": 15,
      "outputs": [
        {
          "output_type": "stream",
          "text": [
            "(1496551, 61)\n"
          ],
          "name": "stdout"
        }
      ]
    },
    {
      "cell_type": "code",
      "metadata": {
        "id": "asVCcINFTG6W",
        "colab_type": "code",
        "colab": {
          "base_uri": "https://localhost:8080/",
          "height": 340
        },
        "outputId": "49e37788-0617-40fc-f83b-a9df4aa5a537"
      },
      "source": [
        "df.columns"
      ],
      "execution_count": 13,
      "outputs": [
        {
          "output_type": "execute_result",
          "data": {
            "text/plain": [
              "Index(['GLOBALEVENTID', 'SQLDATE', 'MonthYear', 'Year', 'FractionDate',\n",
              "       'Actor1Code', 'Actor1Name', 'Actor1CountryCode', 'Actor1KnownGroupCode',\n",
              "       'Actor1EthnicCode', 'Actor1Religion1Code', 'Actor1Religion2Code',\n",
              "       'Actor1Type1Code', 'Actor1Type2Code', 'Actor1Type3Code', 'Actor2Code',\n",
              "       'Actor2Name', 'Actor2CountryCode', 'Actor2KnownGroupCode',\n",
              "       'Actor2EthnicCode', 'Actor2Religion1Code', 'Actor2Religion2Code',\n",
              "       'Actor2Type1Code', 'Actor2Type2Code', 'Actor2Type3Code', 'IsRootEvent',\n",
              "       'EventCode', 'EventBaseCode', 'EventRootCode', 'QuadClass',\n",
              "       'GoldsteinScale', 'NumMentions', 'NumSources', 'NumArticles', 'AvgTone',\n",
              "       'Actor1Geo_Type', 'Actor1Geo_FullName', 'Actor1Geo_CountryCode',\n",
              "       'Actor1Geo_ADM1Code', 'Actor1Geo_ADM2Code', 'Actor1Geo_Lat',\n",
              "       'Actor1Geo_Long', 'Actor1Geo_FeatureID', 'Actor2Geo_Type',\n",
              "       'Actor2Geo_FullName', 'Actor2Geo_CountryCode', 'Actor2Geo_ADM1Code',\n",
              "       'Actor2Geo_ADM2Code', 'Actor2Geo_Lat', 'Actor2Geo_Long',\n",
              "       'Actor2Geo_FeatureID', 'ActionGeo_Type', 'ActionGeo_FullName',\n",
              "       'ActionGeo_CountryCode', 'ActionGeo_ADM1Code', 'ActionGeo_ADM2Code',\n",
              "       'ActionGeo_Lat', 'ActionGeo_Long', 'ActionGeo_FeatureID', 'DATEADDED',\n",
              "       'SOURCEURL'],\n",
              "      dtype='object')"
            ]
          },
          "metadata": {
            "tags": []
          },
          "execution_count": 13
        }
      ]
    },
    {
      "cell_type": "code",
      "metadata": {
        "id": "B0ihwF1ZX_nc",
        "colab_type": "code",
        "colab": {
          "base_uri": "https://localhost:8080/",
          "height": 1000
        },
        "outputId": "9a4a7c10-8288-4b7a-e36f-13c966574b4f"
      },
      "source": [
        "df.info()"
      ],
      "execution_count": 14,
      "outputs": [
        {
          "output_type": "stream",
          "text": [
            "<class 'pandas.core.frame.DataFrame'>\n",
            "RangeIndex: 1496551 entries, 0 to 1496550\n",
            "Data columns (total 61 columns):\n",
            "GLOBALEVENTID            1496551 non-null int64\n",
            "SQLDATE                  1496551 non-null int64\n",
            "MonthYear                1496551 non-null int64\n",
            "Year                     1496551 non-null int64\n",
            "FractionDate             1496551 non-null float64\n",
            "Actor1Code               1341035 non-null object\n",
            "Actor1Name               1341038 non-null object\n",
            "Actor1CountryCode        783423 non-null object\n",
            "Actor1KnownGroupCode     23614 non-null object\n",
            "Actor1EthnicCode         8737 non-null object\n",
            "Actor1Religion1Code      18476 non-null object\n",
            "Actor1Religion2Code      5172 non-null object\n",
            "Actor1Type1Code          686425 non-null object\n",
            "Actor1Type2Code          39625 non-null object\n",
            "Actor1Type3Code          1052 non-null object\n",
            "Actor2Code               1032836 non-null object\n",
            "Actor2Name               1032836 non-null object\n",
            "Actor2CountryCode        619282 non-null object\n",
            "Actor2KnownGroupCode     21336 non-null object\n",
            "Actor2EthnicCode         7232 non-null object\n",
            "Actor2Religion1Code      14909 non-null object\n",
            "Actor2Religion2Code      3676 non-null object\n",
            "Actor2Type1Code          514827 non-null object\n",
            "Actor2Type2Code          27832 non-null object\n",
            "Actor2Type3Code          738 non-null object\n",
            "IsRootEvent              1496551 non-null int64\n",
            "EventCode                1496551 non-null object\n",
            "EventBaseCode            1496551 non-null object\n",
            "EventRootCode            1496551 non-null object\n",
            "QuadClass                1496551 non-null int64\n",
            "GoldsteinScale           1496546 non-null float64\n",
            "NumMentions              1496551 non-null int64\n",
            "NumSources               1496551 non-null int64\n",
            "NumArticles              1496551 non-null int64\n",
            "AvgTone                  1496551 non-null float64\n",
            "Actor1Geo_Type           1496551 non-null int64\n",
            "Actor1Geo_FullName       1296711 non-null object\n",
            "Actor1Geo_CountryCode    1297867 non-null object\n",
            "Actor1Geo_ADM1Code       1297867 non-null object\n",
            "Actor1Geo_ADM2Code       752241 non-null object\n",
            "Actor1Geo_Lat            1296708 non-null float64\n",
            "Actor1Geo_Long           1296969 non-null float64\n",
            "Actor1Geo_FeatureID      1297867 non-null object\n",
            "Actor2Geo_Type           1496551 non-null int64\n",
            "Actor2Geo_FullName       999845 non-null object\n",
            "Actor2Geo_CountryCode    1000649 non-null object\n",
            "Actor2Geo_ADM1Code       1000649 non-null object\n",
            "Actor2Geo_ADM2Code       519753 non-null object\n",
            "Actor2Geo_Lat            999845 non-null object\n",
            "Actor2Geo_Long           1000045 non-null object\n",
            "Actor2Geo_FeatureID      1000649 non-null object\n",
            "ActionGeo_Type           1496551 non-null int64\n",
            "ActionGeo_FullName       1447046 non-null object\n",
            "ActionGeo_CountryCode    1448559 non-null object\n",
            "ActionGeo_ADM1Code       1448559 non-null object\n",
            "ActionGeo_ADM2Code       761918 non-null object\n",
            "ActionGeo_Lat            1447044 non-null float64\n",
            "ActionGeo_Long           1447397 non-null float64\n",
            "ActionGeo_FeatureID      1448559 non-null object\n",
            "DATEADDED                1496551 non-null int64\n",
            "SOURCEURL                1496551 non-null object\n",
            "dtypes: float64(7), int64(13), object(41)\n",
            "memory usage: 696.5+ MB\n"
          ],
          "name": "stdout"
        }
      ]
    },
    {
      "cell_type": "code",
      "metadata": {
        "id": "hTlyxGV5flyu",
        "colab_type": "code",
        "colab": {
          "base_uri": "https://localhost:8080/",
          "height": 34
        },
        "outputId": "e21c9447-4244-498c-bc2f-548511aaf268"
      },
      "source": [
        "df[df.Actor1Code.isnull()].shape"
      ],
      "execution_count": 36,
      "outputs": [
        {
          "output_type": "execute_result",
          "data": {
            "text/plain": [
              "(155516, 61)"
            ]
          },
          "metadata": {
            "tags": []
          },
          "execution_count": 36
        }
      ]
    },
    {
      "cell_type": "code",
      "metadata": {
        "id": "Lf0hcUOofu49",
        "colab_type": "code",
        "colab": {
          "base_uri": "https://localhost:8080/",
          "height": 34
        },
        "outputId": "c164ab30-4411-43ed-960a-8c31cb322d98"
      },
      "source": [
        "# tabulate number of unique EventCode's in cases where Actor1Code is null\n",
        "df[df.Actor1Code.isnull()]['EventCode'].unique().shape"
      ],
      "execution_count": 26,
      "outputs": [
        {
          "output_type": "execute_result",
          "data": {
            "text/plain": [
              "(200,)"
            ]
          },
          "metadata": {
            "tags": []
          },
          "execution_count": 26
        }
      ]
    },
    {
      "cell_type": "code",
      "metadata": {
        "id": "zCwVXZz_hXHt",
        "colab_type": "code",
        "colab": {}
      },
      "source": [
        "import matplotlib.pyplot as plt\n",
        "import matplotlib as mpl\n",
        "%matplotlib inline"
      ],
      "execution_count": 0,
      "outputs": []
    },
    {
      "cell_type": "code",
      "metadata": {
        "id": "6viERFiZnSIE",
        "colab_type": "code",
        "colab": {
          "base_uri": "https://localhost:8080/",
          "height": 34
        },
        "outputId": "d1d29d4e-85f1-4fbf-804e-b2928ec558c9"
      },
      "source": [
        "print(mpl.__version__)"
      ],
      "execution_count": 25,
      "outputs": [
        {
          "output_type": "stream",
          "text": [
            "3.1.2\n"
          ],
          "name": "stdout"
        }
      ]
    },
    {
      "cell_type": "code",
      "metadata": {
        "id": "ZRCTifFQ4gWI",
        "colab_type": "code",
        "colab": {}
      },
      "source": [
        "plt.style.use('seaborn')"
      ],
      "execution_count": 0,
      "outputs": []
    },
    {
      "cell_type": "code",
      "metadata": {
        "id": "iOSQUPOQiBRu",
        "colab_type": "code",
        "colab": {
          "base_uri": "https://localhost:8080/",
          "height": 372
        },
        "outputId": "3e0d763a-ad2f-4fa0-f6ba-4f33cf945973"
      },
      "source": [
        "# plot frequencies of EventCode values for events when Actor1Code is null\n",
        "plt.figure(figsize=(30,5))\n",
        "df[df.Actor1Code.isnull()]['EventCode'].value_counts().plot(kind=\"bar\")\n",
        "plt.show()"
      ],
      "execution_count": 34,
      "outputs": [
        {
          "output_type": "display_data",
          "data": {
            "image/png": "[encoded data removed]",
            "text/plain": [
              "<Figure size 2160x360 with 1 Axes>"
            ]
          },
          "metadata": {
            "tags": []
          }
        }
      ]
    },
    {
      "cell_type": "code",
      "metadata": {
        "id": "GOS96CJn6ByF",
        "colab_type": "code",
        "colab": {
          "base_uri": "https://localhost:8080/",
          "height": 221
        },
        "outputId": "6822f167-c700-423c-d00c-be0af6ee7916"
      },
      "source": [
        "event_code_cts = df[df.Actor1Code.isnull()]['EventCode'].value_counts()\n",
        "event_code_cts[event_code_cts > 100]"
      ],
      "execution_count": 39,
      "outputs": [
        {
          "output_type": "execute_result",
          "data": {
            "text/plain": [
              "042     23679\n",
              "043     16537\n",
              "040     15494\n",
              "036     12304\n",
              "046      9746\n",
              "        ...  \n",
              "1243      119\n",
              "035       117\n",
              "0311      108\n",
              "154       106\n",
              "032       104\n",
              "Name: EventCode, Length: 74, dtype: int64"
            ]
          },
          "metadata": {
            "tags": []
          },
          "execution_count": 39
        }
      ]
    },
    {
      "cell_type": "code",
      "metadata": {
        "id": "LKsyoW3h8SMb",
        "colab_type": "code",
        "colab": {
          "base_uri": "https://localhost:8080/",
          "height": 372
        },
        "outputId": "03509f44-3f37-43b6-87af-6c86eedce6d2"
      },
      "source": [
        "# plot frequencies of EventCode values for events when Actor1Code is NOT null\n",
        "plt.figure(figsize=(30,5))\n",
        "df[df.Actor1Code.notnull()]['EventCode'].value_counts().plot(kind=\"bar\")\n",
        "plt.show()"
      ],
      "execution_count": 40,
      "outputs": [
        {
          "output_type": "display_data",
          "data": {
            "image/png": "[encoded data removed]",
            "text/plain": [
              "<Figure size 2160x360 with 1 Axes>"
            ]
          },
          "metadata": {
            "tags": []
          }
        }
      ]
    },
    {
      "cell_type": "code",
      "metadata": {
        "id": "NNjxq1o0_Yvw",
        "colab_type": "code",
        "colab": {
          "base_uri": "https://localhost:8080/",
          "height": 85
        },
        "outputId": "36867a6e-c601-4c31-b733-905e144a9351"
      },
      "source": [
        "# Check for overlaps between presence of Actor1Code and Actor2Code\n",
        "print(\"Actor1Code NULL, Actor2Code NOT NULL:\", df[df.Actor1Code.isnull() & df.Actor2Code.notnull()].shape[0], f\"{df[df.Actor1Code.isnull() & df.Actor2Code.notnull()].shape[0] / df.shape[0] :.2%}\")\n",
        "print(\"Actor1Code NULL, Actor2Code NULL:\", df[df.Actor1Code.isnull() & df.Actor2Code.isnull()].shape[0], f\"{df[df.Actor1Code.isnull() & df.Actor2Code.isnull()].shape[0] / df.shape[0] :.2%}\")\n",
        "print(\"Actor1Code NOT NULL, Actor2Code NOT NULL:\", df[df.Actor1Code.notnull() & df.Actor2Code.notnull()].shape[0], f\"{df[df.Actor1Code.notnull() & df.Actor2Code.notnull()].shape[0] / df.shape[0] :.2%}\")\n",
        "print(\"Actor1Code NOT NULL, Actor2Code NULL:\", df[df.Actor1Code.notnull() & df.Actor2Code.isnull()].shape[0], f\"{df[df.Actor1Code.notnull() & df.Actor2Code.isnull()].shape[0] / df.shape[0] :.2%}\")"
      ],
      "execution_count": 49,
      "outputs": [
        {
          "output_type": "stream",
          "text": [
            "Actor1Code NULL, Actor2Code NOT NULL: 155514 10.39%\n",
            "Actor1Code NULL, Actor2Code NULL: 2 0.00%\n",
            "Actor1Code NOT NULL, Actor2Code NOT NULL: 877322 58.62%\n",
            "Actor1Code NOT NULL, Actor2Code NULL: 463713 30.99%\n"
          ],
          "name": "stdout"
        }
      ]
    },
    {
      "cell_type": "code",
      "metadata": {
        "id": "P-jmvK7B_5LN",
        "colab_type": "code",
        "colab": {}
      },
      "source": [
        ""
      ],
      "execution_count": 0,
      "outputs": []
    }
  ]
}